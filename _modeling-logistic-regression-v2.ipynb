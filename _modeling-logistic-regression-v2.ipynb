{
 "cells": [
  {
   "cell_type": "markdown",
   "id": "4581f5bc",
   "metadata": {},
   "source": [
    "# Heart Failure Prediction"
   ]
  },
  {
   "cell_type": "code",
   "execution_count": 1,
   "id": "a038eb7e",
   "metadata": {},
   "outputs": [],
   "source": [
    "import pandas as pd\n",
    "import numpy as np\n",
    "import matplotlib.pyplot as plt\n",
    "import seaborn as sns\n",
    "import warnings as wrn\n",
    "wrn.filterwarnings(\"ignore\")"
   ]
  },
  {
   "cell_type": "markdown",
   "id": "b6bc5734",
   "metadata": {},
   "source": [
    "### Read Data "
   ]
  },
  {
   "cell_type": "code",
   "execution_count": 2,
   "id": "14fb7816",
   "metadata": {},
   "outputs": [],
   "source": [
    "def read_data(filename):\n",
    "    DATA_PATH = 'data/'\n",
    "    data = pd.read_csv(DATA_PATH + filename)\n",
    "    \n",
    "    return data"
   ]
  },
  {
   "cell_type": "code",
   "execution_count": 3,
   "id": "1385e4e9",
   "metadata": {},
   "outputs": [],
   "source": [
    "DATA_PATH = 'data/'"
   ]
  },
  {
   "cell_type": "code",
   "execution_count": 4,
   "id": "405963e4",
   "metadata": {},
   "outputs": [],
   "source": [
    "data = read_data('heart.csv')"
   ]
  },
  {
   "cell_type": "code",
   "execution_count": 5,
   "id": "f6b438fe",
   "metadata": {},
   "outputs": [
    {
     "data": {
      "text/html": [
       "<div>\n",
       "<style scoped>\n",
       "    .dataframe tbody tr th:only-of-type {\n",
       "        vertical-align: middle;\n",
       "    }\n",
       "\n",
       "    .dataframe tbody tr th {\n",
       "        vertical-align: top;\n",
       "    }\n",
       "\n",
       "    .dataframe thead th {\n",
       "        text-align: right;\n",
       "    }\n",
       "</style>\n",
       "<table border=\"1\" class=\"dataframe\">\n",
       "  <thead>\n",
       "    <tr style=\"text-align: right;\">\n",
       "      <th></th>\n",
       "      <th>Age</th>\n",
       "      <th>Sex</th>\n",
       "      <th>ChestPainType</th>\n",
       "      <th>RestingBP</th>\n",
       "      <th>Cholesterol</th>\n",
       "      <th>FastingBS</th>\n",
       "      <th>RestingECG</th>\n",
       "      <th>MaxHR</th>\n",
       "      <th>ExerciseAngina</th>\n",
       "      <th>Oldpeak</th>\n",
       "      <th>ST_Slope</th>\n",
       "      <th>HeartDisease</th>\n",
       "    </tr>\n",
       "  </thead>\n",
       "  <tbody>\n",
       "    <tr>\n",
       "      <th>0</th>\n",
       "      <td>40</td>\n",
       "      <td>M</td>\n",
       "      <td>ATA</td>\n",
       "      <td>140</td>\n",
       "      <td>289</td>\n",
       "      <td>0</td>\n",
       "      <td>Normal</td>\n",
       "      <td>172</td>\n",
       "      <td>N</td>\n",
       "      <td>0.0</td>\n",
       "      <td>Up</td>\n",
       "      <td>0</td>\n",
       "    </tr>\n",
       "    <tr>\n",
       "      <th>1</th>\n",
       "      <td>49</td>\n",
       "      <td>F</td>\n",
       "      <td>NAP</td>\n",
       "      <td>160</td>\n",
       "      <td>180</td>\n",
       "      <td>0</td>\n",
       "      <td>Normal</td>\n",
       "      <td>156</td>\n",
       "      <td>N</td>\n",
       "      <td>1.0</td>\n",
       "      <td>Flat</td>\n",
       "      <td>1</td>\n",
       "    </tr>\n",
       "    <tr>\n",
       "      <th>2</th>\n",
       "      <td>37</td>\n",
       "      <td>M</td>\n",
       "      <td>ATA</td>\n",
       "      <td>130</td>\n",
       "      <td>283</td>\n",
       "      <td>0</td>\n",
       "      <td>ST</td>\n",
       "      <td>98</td>\n",
       "      <td>N</td>\n",
       "      <td>0.0</td>\n",
       "      <td>Up</td>\n",
       "      <td>0</td>\n",
       "    </tr>\n",
       "    <tr>\n",
       "      <th>3</th>\n",
       "      <td>48</td>\n",
       "      <td>F</td>\n",
       "      <td>ASY</td>\n",
       "      <td>138</td>\n",
       "      <td>214</td>\n",
       "      <td>0</td>\n",
       "      <td>Normal</td>\n",
       "      <td>108</td>\n",
       "      <td>Y</td>\n",
       "      <td>1.5</td>\n",
       "      <td>Flat</td>\n",
       "      <td>1</td>\n",
       "    </tr>\n",
       "    <tr>\n",
       "      <th>4</th>\n",
       "      <td>54</td>\n",
       "      <td>M</td>\n",
       "      <td>NAP</td>\n",
       "      <td>150</td>\n",
       "      <td>195</td>\n",
       "      <td>0</td>\n",
       "      <td>Normal</td>\n",
       "      <td>122</td>\n",
       "      <td>N</td>\n",
       "      <td>0.0</td>\n",
       "      <td>Up</td>\n",
       "      <td>0</td>\n",
       "    </tr>\n",
       "  </tbody>\n",
       "</table>\n",
       "</div>"
      ],
      "text/plain": [
       "   Age Sex ChestPainType  RestingBP  Cholesterol  FastingBS RestingECG  MaxHR  \\\n",
       "0   40   M           ATA        140          289          0     Normal    172   \n",
       "1   49   F           NAP        160          180          0     Normal    156   \n",
       "2   37   M           ATA        130          283          0         ST     98   \n",
       "3   48   F           ASY        138          214          0     Normal    108   \n",
       "4   54   M           NAP        150          195          0     Normal    122   \n",
       "\n",
       "  ExerciseAngina  Oldpeak ST_Slope  HeartDisease  \n",
       "0              N      0.0       Up             0  \n",
       "1              N      1.0     Flat             1  \n",
       "2              N      0.0       Up             0  \n",
       "3              Y      1.5     Flat             1  \n",
       "4              N      0.0       Up             0  "
      ]
     },
     "execution_count": 5,
     "metadata": {},
     "output_type": "execute_result"
    }
   ],
   "source": [
    "data.head()"
   ]
  },
  {
   "cell_type": "code",
   "execution_count": 6,
   "id": "90dc0889",
   "metadata": {},
   "outputs": [
    {
     "data": {
      "text/html": [
       "<div>\n",
       "<style scoped>\n",
       "    .dataframe tbody tr th:only-of-type {\n",
       "        vertical-align: middle;\n",
       "    }\n",
       "\n",
       "    .dataframe tbody tr th {\n",
       "        vertical-align: top;\n",
       "    }\n",
       "\n",
       "    .dataframe thead th {\n",
       "        text-align: right;\n",
       "    }\n",
       "</style>\n",
       "<table border=\"1\" class=\"dataframe\">\n",
       "  <thead>\n",
       "    <tr style=\"text-align: right;\">\n",
       "      <th></th>\n",
       "      <th>Age</th>\n",
       "      <th>RestingBP</th>\n",
       "      <th>Cholesterol</th>\n",
       "      <th>FastingBS</th>\n",
       "      <th>MaxHR</th>\n",
       "      <th>Oldpeak</th>\n",
       "      <th>HeartDisease</th>\n",
       "    </tr>\n",
       "  </thead>\n",
       "  <tbody>\n",
       "    <tr>\n",
       "      <th>count</th>\n",
       "      <td>918.000000</td>\n",
       "      <td>918.000000</td>\n",
       "      <td>918.000000</td>\n",
       "      <td>918.000000</td>\n",
       "      <td>918.000000</td>\n",
       "      <td>918.000000</td>\n",
       "      <td>918.000000</td>\n",
       "    </tr>\n",
       "    <tr>\n",
       "      <th>mean</th>\n",
       "      <td>53.510893</td>\n",
       "      <td>132.396514</td>\n",
       "      <td>198.799564</td>\n",
       "      <td>0.233115</td>\n",
       "      <td>136.809368</td>\n",
       "      <td>0.887364</td>\n",
       "      <td>0.553377</td>\n",
       "    </tr>\n",
       "    <tr>\n",
       "      <th>std</th>\n",
       "      <td>9.432617</td>\n",
       "      <td>18.514154</td>\n",
       "      <td>109.384145</td>\n",
       "      <td>0.423046</td>\n",
       "      <td>25.460334</td>\n",
       "      <td>1.066570</td>\n",
       "      <td>0.497414</td>\n",
       "    </tr>\n",
       "    <tr>\n",
       "      <th>min</th>\n",
       "      <td>28.000000</td>\n",
       "      <td>0.000000</td>\n",
       "      <td>0.000000</td>\n",
       "      <td>0.000000</td>\n",
       "      <td>60.000000</td>\n",
       "      <td>-2.600000</td>\n",
       "      <td>0.000000</td>\n",
       "    </tr>\n",
       "    <tr>\n",
       "      <th>25%</th>\n",
       "      <td>47.000000</td>\n",
       "      <td>120.000000</td>\n",
       "      <td>173.250000</td>\n",
       "      <td>0.000000</td>\n",
       "      <td>120.000000</td>\n",
       "      <td>0.000000</td>\n",
       "      <td>0.000000</td>\n",
       "    </tr>\n",
       "    <tr>\n",
       "      <th>50%</th>\n",
       "      <td>54.000000</td>\n",
       "      <td>130.000000</td>\n",
       "      <td>223.000000</td>\n",
       "      <td>0.000000</td>\n",
       "      <td>138.000000</td>\n",
       "      <td>0.600000</td>\n",
       "      <td>1.000000</td>\n",
       "    </tr>\n",
       "    <tr>\n",
       "      <th>75%</th>\n",
       "      <td>60.000000</td>\n",
       "      <td>140.000000</td>\n",
       "      <td>267.000000</td>\n",
       "      <td>0.000000</td>\n",
       "      <td>156.000000</td>\n",
       "      <td>1.500000</td>\n",
       "      <td>1.000000</td>\n",
       "    </tr>\n",
       "    <tr>\n",
       "      <th>max</th>\n",
       "      <td>77.000000</td>\n",
       "      <td>200.000000</td>\n",
       "      <td>603.000000</td>\n",
       "      <td>1.000000</td>\n",
       "      <td>202.000000</td>\n",
       "      <td>6.200000</td>\n",
       "      <td>1.000000</td>\n",
       "    </tr>\n",
       "  </tbody>\n",
       "</table>\n",
       "</div>"
      ],
      "text/plain": [
       "              Age   RestingBP  Cholesterol   FastingBS       MaxHR  \\\n",
       "count  918.000000  918.000000   918.000000  918.000000  918.000000   \n",
       "mean    53.510893  132.396514   198.799564    0.233115  136.809368   \n",
       "std      9.432617   18.514154   109.384145    0.423046   25.460334   \n",
       "min     28.000000    0.000000     0.000000    0.000000   60.000000   \n",
       "25%     47.000000  120.000000   173.250000    0.000000  120.000000   \n",
       "50%     54.000000  130.000000   223.000000    0.000000  138.000000   \n",
       "75%     60.000000  140.000000   267.000000    0.000000  156.000000   \n",
       "max     77.000000  200.000000   603.000000    1.000000  202.000000   \n",
       "\n",
       "          Oldpeak  HeartDisease  \n",
       "count  918.000000    918.000000  \n",
       "mean     0.887364      0.553377  \n",
       "std      1.066570      0.497414  \n",
       "min     -2.600000      0.000000  \n",
       "25%      0.000000      0.000000  \n",
       "50%      0.600000      1.000000  \n",
       "75%      1.500000      1.000000  \n",
       "max      6.200000      1.000000  "
      ]
     },
     "execution_count": 6,
     "metadata": {},
     "output_type": "execute_result"
    }
   ],
   "source": [
    "data.describe()"
   ]
  },
  {
   "cell_type": "code",
   "execution_count": 7,
   "id": "8f0154eb",
   "metadata": {},
   "outputs": [
    {
     "name": "stdout",
     "output_type": "stream",
     "text": [
      "<class 'pandas.core.frame.DataFrame'>\n",
      "RangeIndex: 918 entries, 0 to 917\n",
      "Data columns (total 12 columns):\n",
      " #   Column          Non-Null Count  Dtype  \n",
      "---  ------          --------------  -----  \n",
      " 0   Age             918 non-null    int64  \n",
      " 1   Sex             918 non-null    object \n",
      " 2   ChestPainType   918 non-null    object \n",
      " 3   RestingBP       918 non-null    int64  \n",
      " 4   Cholesterol     918 non-null    int64  \n",
      " 5   FastingBS       918 non-null    int64  \n",
      " 6   RestingECG      918 non-null    object \n",
      " 7   MaxHR           918 non-null    int64  \n",
      " 8   ExerciseAngina  918 non-null    object \n",
      " 9   Oldpeak         918 non-null    float64\n",
      " 10  ST_Slope        918 non-null    object \n",
      " 11  HeartDisease    918 non-null    int64  \n",
      "dtypes: float64(1), int64(6), object(5)\n",
      "memory usage: 86.2+ KB\n"
     ]
    }
   ],
   "source": [
    "data.info()"
   ]
  },
  {
   "cell_type": "code",
   "execution_count": 8,
   "id": "5163ed81",
   "metadata": {},
   "outputs": [
    {
     "data": {
      "text/plain": [
       "(918, 12)"
      ]
     },
     "execution_count": 8,
     "metadata": {},
     "output_type": "execute_result"
    }
   ],
   "source": [
    "data.shape"
   ]
  },
  {
   "cell_type": "markdown",
   "id": "30716dbe",
   "metadata": {},
   "source": [
    "### Check Duplicate "
   ]
  },
  {
   "cell_type": "code",
   "execution_count": 9,
   "id": "c35ed72d",
   "metadata": {},
   "outputs": [
    {
     "data": {
      "text/plain": [
       "0"
      ]
     },
     "execution_count": 9,
     "metadata": {},
     "output_type": "execute_result"
    }
   ],
   "source": [
    "data.duplicated().sum()"
   ]
  },
  {
   "cell_type": "markdown",
   "id": "0c0c2061",
   "metadata": {},
   "source": [
    "### Data Splitting "
   ]
  },
  {
   "cell_type": "code",
   "execution_count": 10,
   "id": "f98567f7",
   "metadata": {},
   "outputs": [],
   "source": [
    "def split_input_output(data, target_col):\n",
    "    X = data.drop(columns=target_col)\n",
    "    y = data[target_col]\n",
    "    \n",
    "    return X, y"
   ]
  },
  {
   "cell_type": "code",
   "execution_count": 11,
   "id": "c3fc96a3",
   "metadata": {},
   "outputs": [],
   "source": [
    "X, y = split_input_output(data = data,\n",
    "                          target_col = \"HeartDisease\")"
   ]
  },
  {
   "cell_type": "code",
   "execution_count": 12,
   "id": "2bdbe75a",
   "metadata": {},
   "outputs": [
    {
     "data": {
      "text/html": [
       "<div>\n",
       "<style scoped>\n",
       "    .dataframe tbody tr th:only-of-type {\n",
       "        vertical-align: middle;\n",
       "    }\n",
       "\n",
       "    .dataframe tbody tr th {\n",
       "        vertical-align: top;\n",
       "    }\n",
       "\n",
       "    .dataframe thead th {\n",
       "        text-align: right;\n",
       "    }\n",
       "</style>\n",
       "<table border=\"1\" class=\"dataframe\">\n",
       "  <thead>\n",
       "    <tr style=\"text-align: right;\">\n",
       "      <th></th>\n",
       "      <th>Age</th>\n",
       "      <th>Sex</th>\n",
       "      <th>ChestPainType</th>\n",
       "      <th>RestingBP</th>\n",
       "      <th>Cholesterol</th>\n",
       "      <th>FastingBS</th>\n",
       "      <th>RestingECG</th>\n",
       "      <th>MaxHR</th>\n",
       "      <th>ExerciseAngina</th>\n",
       "      <th>Oldpeak</th>\n",
       "      <th>ST_Slope</th>\n",
       "    </tr>\n",
       "  </thead>\n",
       "  <tbody>\n",
       "    <tr>\n",
       "      <th>0</th>\n",
       "      <td>40</td>\n",
       "      <td>M</td>\n",
       "      <td>ATA</td>\n",
       "      <td>140</td>\n",
       "      <td>289</td>\n",
       "      <td>0</td>\n",
       "      <td>Normal</td>\n",
       "      <td>172</td>\n",
       "      <td>N</td>\n",
       "      <td>0.0</td>\n",
       "      <td>Up</td>\n",
       "    </tr>\n",
       "    <tr>\n",
       "      <th>1</th>\n",
       "      <td>49</td>\n",
       "      <td>F</td>\n",
       "      <td>NAP</td>\n",
       "      <td>160</td>\n",
       "      <td>180</td>\n",
       "      <td>0</td>\n",
       "      <td>Normal</td>\n",
       "      <td>156</td>\n",
       "      <td>N</td>\n",
       "      <td>1.0</td>\n",
       "      <td>Flat</td>\n",
       "    </tr>\n",
       "    <tr>\n",
       "      <th>2</th>\n",
       "      <td>37</td>\n",
       "      <td>M</td>\n",
       "      <td>ATA</td>\n",
       "      <td>130</td>\n",
       "      <td>283</td>\n",
       "      <td>0</td>\n",
       "      <td>ST</td>\n",
       "      <td>98</td>\n",
       "      <td>N</td>\n",
       "      <td>0.0</td>\n",
       "      <td>Up</td>\n",
       "    </tr>\n",
       "    <tr>\n",
       "      <th>3</th>\n",
       "      <td>48</td>\n",
       "      <td>F</td>\n",
       "      <td>ASY</td>\n",
       "      <td>138</td>\n",
       "      <td>214</td>\n",
       "      <td>0</td>\n",
       "      <td>Normal</td>\n",
       "      <td>108</td>\n",
       "      <td>Y</td>\n",
       "      <td>1.5</td>\n",
       "      <td>Flat</td>\n",
       "    </tr>\n",
       "    <tr>\n",
       "      <th>4</th>\n",
       "      <td>54</td>\n",
       "      <td>M</td>\n",
       "      <td>NAP</td>\n",
       "      <td>150</td>\n",
       "      <td>195</td>\n",
       "      <td>0</td>\n",
       "      <td>Normal</td>\n",
       "      <td>122</td>\n",
       "      <td>N</td>\n",
       "      <td>0.0</td>\n",
       "      <td>Up</td>\n",
       "    </tr>\n",
       "  </tbody>\n",
       "</table>\n",
       "</div>"
      ],
      "text/plain": [
       "   Age Sex ChestPainType  RestingBP  Cholesterol  FastingBS RestingECG  MaxHR  \\\n",
       "0   40   M           ATA        140          289          0     Normal    172   \n",
       "1   49   F           NAP        160          180          0     Normal    156   \n",
       "2   37   M           ATA        130          283          0         ST     98   \n",
       "3   48   F           ASY        138          214          0     Normal    108   \n",
       "4   54   M           NAP        150          195          0     Normal    122   \n",
       "\n",
       "  ExerciseAngina  Oldpeak ST_Slope  \n",
       "0              N      0.0       Up  \n",
       "1              N      1.0     Flat  \n",
       "2              N      0.0       Up  \n",
       "3              Y      1.5     Flat  \n",
       "4              N      0.0       Up  "
      ]
     },
     "execution_count": 12,
     "metadata": {},
     "output_type": "execute_result"
    }
   ],
   "source": [
    "X.head()"
   ]
  },
  {
   "cell_type": "code",
   "execution_count": 13,
   "id": "5b5d5d9c",
   "metadata": {},
   "outputs": [
    {
     "data": {
      "text/plain": [
       "0    0\n",
       "1    1\n",
       "2    0\n",
       "3    1\n",
       "4    0\n",
       "Name: HeartDisease, dtype: int64"
      ]
     },
     "execution_count": 13,
     "metadata": {},
     "output_type": "execute_result"
    }
   ],
   "source": [
    "y.head()"
   ]
  },
  {
   "cell_type": "code",
   "execution_count": 14,
   "id": "c5371630",
   "metadata": {},
   "outputs": [],
   "source": [
    "from sklearn.model_selection import train_test_split"
   ]
  },
  {
   "cell_type": "code",
   "execution_count": 15,
   "id": "4c9f6700",
   "metadata": {},
   "outputs": [
    {
     "data": {
      "text/plain": [
       "1    0.553377\n",
       "0    0.446623\n",
       "Name: HeartDisease, dtype: float64"
      ]
     },
     "execution_count": 15,
     "metadata": {},
     "output_type": "execute_result"
    }
   ],
   "source": [
    "y.value_counts(normalize=True)"
   ]
  },
  {
   "cell_type": "code",
   "execution_count": 16,
   "id": "51703e06",
   "metadata": {},
   "outputs": [],
   "source": [
    "X_train, X_test, y_train, y_test = train_test_split(X, y,\n",
    "                                                    test_size = 0.2,\n",
    "                                                    stratify = y,\n",
    "                                                    random_state = 42)"
   ]
  },
  {
   "cell_type": "code",
   "execution_count": 17,
   "id": "56731cc8",
   "metadata": {},
   "outputs": [
    {
     "name": "stdout",
     "output_type": "stream",
     "text": [
      "Training set shape: ((734, 11), (734,))\n",
      "Test set shape: ((184, 11), (184,))\n"
     ]
    }
   ],
   "source": [
    "print(f\"Training set shape: {X_train.shape, y_train.shape}\")\n",
    "print(f\"Test set shape: {X_test.shape, y_test.shape}\")"
   ]
  },
  {
   "cell_type": "code",
   "execution_count": 18,
   "id": "e142249a",
   "metadata": {},
   "outputs": [
    {
     "data": {
      "text/plain": [
       "1    406\n",
       "0    328\n",
       "Name: HeartDisease, dtype: int64"
      ]
     },
     "execution_count": 18,
     "metadata": {},
     "output_type": "execute_result"
    }
   ],
   "source": [
    "y_train.value_counts()"
   ]
  },
  {
   "cell_type": "code",
   "execution_count": 19,
   "id": "c2da094f",
   "metadata": {
    "scrolled": true
   },
   "outputs": [
    {
     "data": {
      "text/plain": [
       "1    102\n",
       "0     82\n",
       "Name: HeartDisease, dtype: int64"
      ]
     },
     "execution_count": 19,
     "metadata": {},
     "output_type": "execute_result"
    }
   ],
   "source": [
    "y_test.value_counts()"
   ]
  },
  {
   "cell_type": "markdown",
   "id": "c9e8a48b",
   "metadata": {},
   "source": [
    "### Check Missing Values"
   ]
  },
  {
   "cell_type": "code",
   "execution_count": 20,
   "id": "4a7e210e",
   "metadata": {},
   "outputs": [
    {
     "data": {
      "text/plain": [
       "Age               0\n",
       "Sex               0\n",
       "ChestPainType     0\n",
       "RestingBP         0\n",
       "Cholesterol       0\n",
       "FastingBS         0\n",
       "RestingECG        0\n",
       "MaxHR             0\n",
       "ExerciseAngina    0\n",
       "Oldpeak           0\n",
       "ST_Slope          0\n",
       "dtype: int64"
      ]
     },
     "execution_count": 20,
     "metadata": {},
     "output_type": "execute_result"
    }
   ],
   "source": [
    "X_train.isnull().sum()"
   ]
  },
  {
   "cell_type": "code",
   "execution_count": 21,
   "id": "896674f3",
   "metadata": {},
   "outputs": [
    {
     "data": {
      "text/plain": [
       "0"
      ]
     },
     "execution_count": 21,
     "metadata": {},
     "output_type": "execute_result"
    }
   ],
   "source": [
    "y_train.isnull().sum()"
   ]
  },
  {
   "cell_type": "code",
   "execution_count": 22,
   "id": "5d1880bd",
   "metadata": {},
   "outputs": [
    {
     "data": {
      "text/plain": [
       "Age               0\n",
       "Sex               0\n",
       "ChestPainType     0\n",
       "RestingBP         0\n",
       "Cholesterol       0\n",
       "FastingBS         0\n",
       "RestingECG        0\n",
       "MaxHR             0\n",
       "ExerciseAngina    0\n",
       "Oldpeak           0\n",
       "ST_Slope          0\n",
       "dtype: int64"
      ]
     },
     "execution_count": 22,
     "metadata": {},
     "output_type": "execute_result"
    }
   ],
   "source": [
    "X_test.isnull().sum()"
   ]
  },
  {
   "cell_type": "code",
   "execution_count": 23,
   "id": "7113ec9e",
   "metadata": {},
   "outputs": [
    {
     "data": {
      "text/plain": [
       "0"
      ]
     },
     "execution_count": 23,
     "metadata": {},
     "output_type": "execute_result"
    }
   ],
   "source": [
    "y_test.isnull().sum()"
   ]
  },
  {
   "cell_type": "markdown",
   "id": "68bfbc42",
   "metadata": {},
   "source": [
    "We need do:\n",
    "- Treat outlier\n",
    "- Treat zero values on Cholesterol\n",
    "- OldPeak karena ada negative values"
   ]
  },
  {
   "cell_type": "code",
   "execution_count": 28,
   "id": "1b9aff53",
   "metadata": {
    "scrolled": false
   },
   "outputs": [
    {
     "data": {
      "text/html": [
       "<div>\n",
       "<style scoped>\n",
       "    .dataframe tbody tr th:only-of-type {\n",
       "        vertical-align: middle;\n",
       "    }\n",
       "\n",
       "    .dataframe tbody tr th {\n",
       "        vertical-align: top;\n",
       "    }\n",
       "\n",
       "    .dataframe thead th {\n",
       "        text-align: right;\n",
       "    }\n",
       "</style>\n",
       "<table border=\"1\" class=\"dataframe\">\n",
       "  <thead>\n",
       "    <tr style=\"text-align: right;\">\n",
       "      <th></th>\n",
       "      <th>Age</th>\n",
       "      <th>Sex</th>\n",
       "      <th>ChestPainType</th>\n",
       "      <th>RestingBP</th>\n",
       "      <th>Cholesterol</th>\n",
       "      <th>FastingBS</th>\n",
       "      <th>RestingECG</th>\n",
       "      <th>MaxHR</th>\n",
       "      <th>ExerciseAngina</th>\n",
       "      <th>Oldpeak</th>\n",
       "      <th>ST_Slope</th>\n",
       "    </tr>\n",
       "  </thead>\n",
       "  <tbody>\n",
       "    <tr>\n",
       "      <th>361</th>\n",
       "      <td>47</td>\n",
       "      <td>M</td>\n",
       "      <td>ASY</td>\n",
       "      <td>160</td>\n",
       "      <td>0</td>\n",
       "      <td>0</td>\n",
       "      <td>Normal</td>\n",
       "      <td>124</td>\n",
       "      <td>Y</td>\n",
       "      <td>0.0</td>\n",
       "      <td>Flat</td>\n",
       "    </tr>\n",
       "    <tr>\n",
       "      <th>296</th>\n",
       "      <td>50</td>\n",
       "      <td>M</td>\n",
       "      <td>ASY</td>\n",
       "      <td>145</td>\n",
       "      <td>0</td>\n",
       "      <td>1</td>\n",
       "      <td>Normal</td>\n",
       "      <td>139</td>\n",
       "      <td>Y</td>\n",
       "      <td>0.7</td>\n",
       "      <td>Flat</td>\n",
       "    </tr>\n",
       "    <tr>\n",
       "      <th>451</th>\n",
       "      <td>64</td>\n",
       "      <td>M</td>\n",
       "      <td>ASY</td>\n",
       "      <td>144</td>\n",
       "      <td>0</td>\n",
       "      <td>0</td>\n",
       "      <td>ST</td>\n",
       "      <td>122</td>\n",
       "      <td>Y</td>\n",
       "      <td>1.0</td>\n",
       "      <td>Flat</td>\n",
       "    </tr>\n",
       "    <tr>\n",
       "      <th>346</th>\n",
       "      <td>59</td>\n",
       "      <td>M</td>\n",
       "      <td>ASY</td>\n",
       "      <td>120</td>\n",
       "      <td>0</td>\n",
       "      <td>0</td>\n",
       "      <td>Normal</td>\n",
       "      <td>115</td>\n",
       "      <td>N</td>\n",
       "      <td>0.0</td>\n",
       "      <td>Flat</td>\n",
       "    </tr>\n",
       "    <tr>\n",
       "      <th>458</th>\n",
       "      <td>61</td>\n",
       "      <td>M</td>\n",
       "      <td>ASY</td>\n",
       "      <td>134</td>\n",
       "      <td>0</td>\n",
       "      <td>1</td>\n",
       "      <td>ST</td>\n",
       "      <td>86</td>\n",
       "      <td>N</td>\n",
       "      <td>1.5</td>\n",
       "      <td>Flat</td>\n",
       "    </tr>\n",
       "    <tr>\n",
       "      <th>...</th>\n",
       "      <td>...</td>\n",
       "      <td>...</td>\n",
       "      <td>...</td>\n",
       "      <td>...</td>\n",
       "      <td>...</td>\n",
       "      <td>...</td>\n",
       "      <td>...</td>\n",
       "      <td>...</td>\n",
       "      <td>...</td>\n",
       "      <td>...</td>\n",
       "      <td>...</td>\n",
       "    </tr>\n",
       "    <tr>\n",
       "      <th>437</th>\n",
       "      <td>64</td>\n",
       "      <td>M</td>\n",
       "      <td>ASY</td>\n",
       "      <td>120</td>\n",
       "      <td>0</td>\n",
       "      <td>1</td>\n",
       "      <td>ST</td>\n",
       "      <td>106</td>\n",
       "      <td>N</td>\n",
       "      <td>2.0</td>\n",
       "      <td>Flat</td>\n",
       "    </tr>\n",
       "    <tr>\n",
       "      <th>332</th>\n",
       "      <td>38</td>\n",
       "      <td>M</td>\n",
       "      <td>NAP</td>\n",
       "      <td>100</td>\n",
       "      <td>0</td>\n",
       "      <td>0</td>\n",
       "      <td>Normal</td>\n",
       "      <td>179</td>\n",
       "      <td>N</td>\n",
       "      <td>-1.1</td>\n",
       "      <td>Up</td>\n",
       "    </tr>\n",
       "    <tr>\n",
       "      <th>395</th>\n",
       "      <td>38</td>\n",
       "      <td>M</td>\n",
       "      <td>ASY</td>\n",
       "      <td>135</td>\n",
       "      <td>0</td>\n",
       "      <td>1</td>\n",
       "      <td>Normal</td>\n",
       "      <td>150</td>\n",
       "      <td>N</td>\n",
       "      <td>0.0</td>\n",
       "      <td>Flat</td>\n",
       "    </tr>\n",
       "    <tr>\n",
       "      <th>393</th>\n",
       "      <td>38</td>\n",
       "      <td>M</td>\n",
       "      <td>ASY</td>\n",
       "      <td>150</td>\n",
       "      <td>0</td>\n",
       "      <td>1</td>\n",
       "      <td>Normal</td>\n",
       "      <td>120</td>\n",
       "      <td>Y</td>\n",
       "      <td>0.7</td>\n",
       "      <td>Flat</td>\n",
       "    </tr>\n",
       "    <tr>\n",
       "      <th>322</th>\n",
       "      <td>38</td>\n",
       "      <td>F</td>\n",
       "      <td>ASY</td>\n",
       "      <td>105</td>\n",
       "      <td>0</td>\n",
       "      <td>1</td>\n",
       "      <td>Normal</td>\n",
       "      <td>166</td>\n",
       "      <td>N</td>\n",
       "      <td>2.8</td>\n",
       "      <td>Up</td>\n",
       "    </tr>\n",
       "  </tbody>\n",
       "</table>\n",
       "<p>129 rows × 11 columns</p>\n",
       "</div>"
      ],
      "text/plain": [
       "     Age Sex ChestPainType  RestingBP  Cholesterol  FastingBS RestingECG  \\\n",
       "361   47   M           ASY        160            0          0     Normal   \n",
       "296   50   M           ASY        145            0          1     Normal   \n",
       "451   64   M           ASY        144            0          0         ST   \n",
       "346   59   M           ASY        120            0          0     Normal   \n",
       "458   61   M           ASY        134            0          1         ST   \n",
       "..   ...  ..           ...        ...          ...        ...        ...   \n",
       "437   64   M           ASY        120            0          1         ST   \n",
       "332   38   M           NAP        100            0          0     Normal   \n",
       "395   38   M           ASY        135            0          1     Normal   \n",
       "393   38   M           ASY        150            0          1     Normal   \n",
       "322   38   F           ASY        105            0          1     Normal   \n",
       "\n",
       "     MaxHR ExerciseAngina  Oldpeak ST_Slope  \n",
       "361    124              Y      0.0     Flat  \n",
       "296    139              Y      0.7     Flat  \n",
       "451    122              Y      1.0     Flat  \n",
       "346    115              N      0.0     Flat  \n",
       "458     86              N      1.5     Flat  \n",
       "..     ...            ...      ...      ...  \n",
       "437    106              N      2.0     Flat  \n",
       "332    179              N     -1.1       Up  \n",
       "395    150              N      0.0     Flat  \n",
       "393    120              Y      0.7     Flat  \n",
       "322    166              N      2.8       Up  \n",
       "\n",
       "[129 rows x 11 columns]"
      ]
     },
     "execution_count": 28,
     "metadata": {},
     "output_type": "execute_result"
    }
   ],
   "source": [
    "X_train[X_train[\"Cholesterol\"] == 0]"
   ]
  },
  {
   "cell_type": "markdown",
   "id": "80557c1f",
   "metadata": {},
   "source": [
    "### Split into Categorical and Numerical \n",
    "\n",
    "Setelah kita treat data nya, entar kita merge"
   ]
  },
  {
   "cell_type": "code",
   "execution_count": 29,
   "id": "38ea2e74",
   "metadata": {},
   "outputs": [],
   "source": [
    "X_train_cat = X_train[COLS_CATEGORICAL].copy()\n",
    "X_train_num = X_train[COLS_NUMS].copy()\n",
    "\n",
    "X_test_cat = X_test[COLS_CATEGORICAL].copy()\n",
    "X_test_num = X_test[COLS_NUMS].copy()"
   ]
  },
  {
   "cell_type": "code",
   "execution_count": 30,
   "id": "92b7e524",
   "metadata": {},
   "outputs": [
    {
     "data": {
      "text/html": [
       "<div>\n",
       "<style scoped>\n",
       "    .dataframe tbody tr th:only-of-type {\n",
       "        vertical-align: middle;\n",
       "    }\n",
       "\n",
       "    .dataframe tbody tr th {\n",
       "        vertical-align: top;\n",
       "    }\n",
       "\n",
       "    .dataframe thead th {\n",
       "        text-align: right;\n",
       "    }\n",
       "</style>\n",
       "<table border=\"1\" class=\"dataframe\">\n",
       "  <thead>\n",
       "    <tr style=\"text-align: right;\">\n",
       "      <th></th>\n",
       "      <th>Sex</th>\n",
       "      <th>ChestPainType</th>\n",
       "      <th>FastingBS</th>\n",
       "      <th>RestingECG</th>\n",
       "      <th>ExerciseAngina</th>\n",
       "      <th>ST_Slope</th>\n",
       "    </tr>\n",
       "  </thead>\n",
       "  <tbody>\n",
       "    <tr>\n",
       "      <th>485</th>\n",
       "      <td>M</td>\n",
       "      <td>ATA</td>\n",
       "      <td>1</td>\n",
       "      <td>ST</td>\n",
       "      <td>Y</td>\n",
       "      <td>Flat</td>\n",
       "    </tr>\n",
       "    <tr>\n",
       "      <th>486</th>\n",
       "      <td>M</td>\n",
       "      <td>ATA</td>\n",
       "      <td>1</td>\n",
       "      <td>ST</td>\n",
       "      <td>N</td>\n",
       "      <td>Up</td>\n",
       "    </tr>\n",
       "    <tr>\n",
       "      <th>117</th>\n",
       "      <td>F</td>\n",
       "      <td>ASY</td>\n",
       "      <td>1</td>\n",
       "      <td>ST</td>\n",
       "      <td>Y</td>\n",
       "      <td>Flat</td>\n",
       "    </tr>\n",
       "    <tr>\n",
       "      <th>361</th>\n",
       "      <td>M</td>\n",
       "      <td>ASY</td>\n",
       "      <td>0</td>\n",
       "      <td>Normal</td>\n",
       "      <td>Y</td>\n",
       "      <td>Flat</td>\n",
       "    </tr>\n",
       "    <tr>\n",
       "      <th>296</th>\n",
       "      <td>M</td>\n",
       "      <td>ASY</td>\n",
       "      <td>1</td>\n",
       "      <td>Normal</td>\n",
       "      <td>Y</td>\n",
       "      <td>Flat</td>\n",
       "    </tr>\n",
       "  </tbody>\n",
       "</table>\n",
       "</div>"
      ],
      "text/plain": [
       "    Sex ChestPainType  FastingBS RestingECG ExerciseAngina ST_Slope\n",
       "485   M           ATA          1         ST              Y     Flat\n",
       "486   M           ATA          1         ST              N       Up\n",
       "117   F           ASY          1         ST              Y     Flat\n",
       "361   M           ASY          0     Normal              Y     Flat\n",
       "296   M           ASY          1     Normal              Y     Flat"
      ]
     },
     "execution_count": 30,
     "metadata": {},
     "output_type": "execute_result"
    }
   ],
   "source": [
    "X_train_cat.head()"
   ]
  },
  {
   "cell_type": "code",
   "execution_count": 31,
   "id": "a86793ef",
   "metadata": {},
   "outputs": [
    {
     "data": {
      "text/html": [
       "<div>\n",
       "<style scoped>\n",
       "    .dataframe tbody tr th:only-of-type {\n",
       "        vertical-align: middle;\n",
       "    }\n",
       "\n",
       "    .dataframe tbody tr th {\n",
       "        vertical-align: top;\n",
       "    }\n",
       "\n",
       "    .dataframe thead th {\n",
       "        text-align: right;\n",
       "    }\n",
       "</style>\n",
       "<table border=\"1\" class=\"dataframe\">\n",
       "  <thead>\n",
       "    <tr style=\"text-align: right;\">\n",
       "      <th></th>\n",
       "      <th>Age</th>\n",
       "      <th>RestingBP</th>\n",
       "      <th>Cholesterol</th>\n",
       "      <th>MaxHR</th>\n",
       "      <th>Oldpeak</th>\n",
       "    </tr>\n",
       "  </thead>\n",
       "  <tbody>\n",
       "    <tr>\n",
       "      <th>485</th>\n",
       "      <td>63</td>\n",
       "      <td>139</td>\n",
       "      <td>217</td>\n",
       "      <td>128</td>\n",
       "      <td>1.2</td>\n",
       "    </tr>\n",
       "    <tr>\n",
       "      <th>486</th>\n",
       "      <td>55</td>\n",
       "      <td>110</td>\n",
       "      <td>214</td>\n",
       "      <td>180</td>\n",
       "      <td>0.4</td>\n",
       "    </tr>\n",
       "    <tr>\n",
       "      <th>117</th>\n",
       "      <td>59</td>\n",
       "      <td>130</td>\n",
       "      <td>338</td>\n",
       "      <td>130</td>\n",
       "      <td>1.5</td>\n",
       "    </tr>\n",
       "    <tr>\n",
       "      <th>361</th>\n",
       "      <td>47</td>\n",
       "      <td>160</td>\n",
       "      <td>0</td>\n",
       "      <td>124</td>\n",
       "      <td>0.0</td>\n",
       "    </tr>\n",
       "    <tr>\n",
       "      <th>296</th>\n",
       "      <td>50</td>\n",
       "      <td>145</td>\n",
       "      <td>0</td>\n",
       "      <td>139</td>\n",
       "      <td>0.7</td>\n",
       "    </tr>\n",
       "  </tbody>\n",
       "</table>\n",
       "</div>"
      ],
      "text/plain": [
       "     Age  RestingBP  Cholesterol  MaxHR  Oldpeak\n",
       "485   63        139          217    128      1.2\n",
       "486   55        110          214    180      0.4\n",
       "117   59        130          338    130      1.5\n",
       "361   47        160            0    124      0.0\n",
       "296   50        145            0    139      0.7"
      ]
     },
     "execution_count": 31,
     "metadata": {},
     "output_type": "execute_result"
    }
   ],
   "source": [
    "X_train_num.head()"
   ]
  },
  {
   "cell_type": "markdown",
   "id": "e88932ec",
   "metadata": {},
   "source": [
    "### Preprocessing "
   ]
  },
  {
   "cell_type": "markdown",
   "id": "c13a9809",
   "metadata": {},
   "source": [
    "#### Treat Outlier `Cholesterol` Column "
   ]
  },
  {
   "cell_type": "code",
   "execution_count": 32,
   "id": "f9057dc8",
   "metadata": {},
   "outputs": [
    {
     "data": {
      "text/plain": [
       "(734,)"
      ]
     },
     "execution_count": 32,
     "metadata": {},
     "output_type": "execute_result"
    }
   ],
   "source": [
    "X_train_num[\"Cholesterol\"].shape"
   ]
  },
  {
   "cell_type": "code",
   "execution_count": 33,
   "id": "a5d34622",
   "metadata": {
    "scrolled": true
   },
   "outputs": [
    {
     "data": {
      "text/html": [
       "<div>\n",
       "<style scoped>\n",
       "    .dataframe tbody tr th:only-of-type {\n",
       "        vertical-align: middle;\n",
       "    }\n",
       "\n",
       "    .dataframe tbody tr th {\n",
       "        vertical-align: top;\n",
       "    }\n",
       "\n",
       "    .dataframe thead th {\n",
       "        text-align: right;\n",
       "    }\n",
       "</style>\n",
       "<table border=\"1\" class=\"dataframe\">\n",
       "  <thead>\n",
       "    <tr style=\"text-align: right;\">\n",
       "      <th></th>\n",
       "      <th>Age</th>\n",
       "      <th>RestingBP</th>\n",
       "      <th>Cholesterol</th>\n",
       "      <th>MaxHR</th>\n",
       "      <th>Oldpeak</th>\n",
       "    </tr>\n",
       "  </thead>\n",
       "  <tbody>\n",
       "    <tr>\n",
       "      <th>361</th>\n",
       "      <td>47</td>\n",
       "      <td>160</td>\n",
       "      <td>0</td>\n",
       "      <td>124</td>\n",
       "      <td>0.0</td>\n",
       "    </tr>\n",
       "    <tr>\n",
       "      <th>296</th>\n",
       "      <td>50</td>\n",
       "      <td>145</td>\n",
       "      <td>0</td>\n",
       "      <td>139</td>\n",
       "      <td>0.7</td>\n",
       "    </tr>\n",
       "    <tr>\n",
       "      <th>451</th>\n",
       "      <td>64</td>\n",
       "      <td>144</td>\n",
       "      <td>0</td>\n",
       "      <td>122</td>\n",
       "      <td>1.0</td>\n",
       "    </tr>\n",
       "    <tr>\n",
       "      <th>346</th>\n",
       "      <td>59</td>\n",
       "      <td>120</td>\n",
       "      <td>0</td>\n",
       "      <td>115</td>\n",
       "      <td>0.0</td>\n",
       "    </tr>\n",
       "    <tr>\n",
       "      <th>458</th>\n",
       "      <td>61</td>\n",
       "      <td>134</td>\n",
       "      <td>0</td>\n",
       "      <td>86</td>\n",
       "      <td>1.5</td>\n",
       "    </tr>\n",
       "    <tr>\n",
       "      <th>...</th>\n",
       "      <td>...</td>\n",
       "      <td>...</td>\n",
       "      <td>...</td>\n",
       "      <td>...</td>\n",
       "      <td>...</td>\n",
       "    </tr>\n",
       "    <tr>\n",
       "      <th>437</th>\n",
       "      <td>64</td>\n",
       "      <td>120</td>\n",
       "      <td>0</td>\n",
       "      <td>106</td>\n",
       "      <td>2.0</td>\n",
       "    </tr>\n",
       "    <tr>\n",
       "      <th>332</th>\n",
       "      <td>38</td>\n",
       "      <td>100</td>\n",
       "      <td>0</td>\n",
       "      <td>179</td>\n",
       "      <td>-1.1</td>\n",
       "    </tr>\n",
       "    <tr>\n",
       "      <th>395</th>\n",
       "      <td>38</td>\n",
       "      <td>135</td>\n",
       "      <td>0</td>\n",
       "      <td>150</td>\n",
       "      <td>0.0</td>\n",
       "    </tr>\n",
       "    <tr>\n",
       "      <th>393</th>\n",
       "      <td>38</td>\n",
       "      <td>150</td>\n",
       "      <td>0</td>\n",
       "      <td>120</td>\n",
       "      <td>0.7</td>\n",
       "    </tr>\n",
       "    <tr>\n",
       "      <th>322</th>\n",
       "      <td>38</td>\n",
       "      <td>105</td>\n",
       "      <td>0</td>\n",
       "      <td>166</td>\n",
       "      <td>2.8</td>\n",
       "    </tr>\n",
       "  </tbody>\n",
       "</table>\n",
       "<p>129 rows × 5 columns</p>\n",
       "</div>"
      ],
      "text/plain": [
       "     Age  RestingBP  Cholesterol  MaxHR  Oldpeak\n",
       "361   47        160            0    124      0.0\n",
       "296   50        145            0    139      0.7\n",
       "451   64        144            0    122      1.0\n",
       "346   59        120            0    115      0.0\n",
       "458   61        134            0     86      1.5\n",
       "..   ...        ...          ...    ...      ...\n",
       "437   64        120            0    106      2.0\n",
       "332   38        100            0    179     -1.1\n",
       "395   38        135            0    150      0.0\n",
       "393   38        150            0    120      0.7\n",
       "322   38        105            0    166      2.8\n",
       "\n",
       "[129 rows x 5 columns]"
      ]
     },
     "execution_count": 33,
     "metadata": {},
     "output_type": "execute_result"
    }
   ],
   "source": [
    "X_train_num[X_train_num[\"Cholesterol\"] == 0]"
   ]
  },
  {
   "cell_type": "code",
   "execution_count": 34,
   "id": "dea2c0c4",
   "metadata": {},
   "outputs": [],
   "source": [
    "median_value = np.median(X_train_num[\"Cholesterol\"])"
   ]
  },
  {
   "cell_type": "code",
   "execution_count": 35,
   "id": "334c2de1",
   "metadata": {},
   "outputs": [],
   "source": [
    "X_train_num[\"Cholesterol\"] = np.where(X_train_num[\"Cholesterol\"] == 0, median_value, X_train_num['Cholesterol'])"
   ]
  },
  {
   "cell_type": "code",
   "execution_count": 36,
   "id": "6f5e3def",
   "metadata": {},
   "outputs": [],
   "source": [
    "X_test_num[\"Cholesterol\"] = np.where(X_test_num[\"Cholesterol\"] == 0, median_value, X_test_num['Cholesterol'])"
   ]
  },
  {
   "cell_type": "code",
   "execution_count": 37,
   "id": "2dd84fab",
   "metadata": {},
   "outputs": [
    {
     "data": {
      "text/plain": [
       "485    217.0\n",
       "486    214.0\n",
       "117    338.0\n",
       "361    225.0\n",
       "296    225.0\n",
       "Name: Cholesterol, dtype: float64"
      ]
     },
     "execution_count": 37,
     "metadata": {},
     "output_type": "execute_result"
    }
   ],
   "source": [
    "X_train_num[\"Cholesterol\"].head()"
   ]
  },
  {
   "cell_type": "code",
   "execution_count": 38,
   "id": "4a2be808",
   "metadata": {},
   "outputs": [
    {
     "data": {
      "text/html": [
       "<div>\n",
       "<style scoped>\n",
       "    .dataframe tbody tr th:only-of-type {\n",
       "        vertical-align: middle;\n",
       "    }\n",
       "\n",
       "    .dataframe tbody tr th {\n",
       "        vertical-align: top;\n",
       "    }\n",
       "\n",
       "    .dataframe thead th {\n",
       "        text-align: right;\n",
       "    }\n",
       "</style>\n",
       "<table border=\"1\" class=\"dataframe\">\n",
       "  <thead>\n",
       "    <tr style=\"text-align: right;\">\n",
       "      <th></th>\n",
       "      <th>Age</th>\n",
       "      <th>RestingBP</th>\n",
       "      <th>Cholesterol</th>\n",
       "      <th>MaxHR</th>\n",
       "      <th>Oldpeak</th>\n",
       "    </tr>\n",
       "  </thead>\n",
       "  <tbody>\n",
       "  </tbody>\n",
       "</table>\n",
       "</div>"
      ],
      "text/plain": [
       "Empty DataFrame\n",
       "Columns: [Age, RestingBP, Cholesterol, MaxHR, Oldpeak]\n",
       "Index: []"
      ]
     },
     "execution_count": 38,
     "metadata": {},
     "output_type": "execute_result"
    }
   ],
   "source": [
    "X_train_num[X_train_num[\"Cholesterol\"] == 0]"
   ]
  },
  {
   "cell_type": "code",
   "execution_count": 39,
   "id": "02319dbd",
   "metadata": {},
   "outputs": [
    {
     "data": {
      "text/plain": [
       "(734,)"
      ]
     },
     "execution_count": 39,
     "metadata": {},
     "output_type": "execute_result"
    }
   ],
   "source": [
    "X_train[\"Cholesterol\"].shape"
   ]
  },
  {
   "cell_type": "markdown",
   "id": "bc5cfa3c",
   "metadata": {},
   "source": [
    "#### One Hot Encoding \n",
    "\n",
    "https://albertum.medium.com/preprocessing-onehotencoder-vs-pandas-get-dummies-3de1f3d77dcc\n",
    "\n",
    "Meleduk ternyata cols nya wkwk"
   ]
  },
  {
   "cell_type": "code",
   "execution_count": 40,
   "id": "9359f678",
   "metadata": {},
   "outputs": [],
   "source": [
    "from sklearn.preprocessing import OneHotEncoder\n",
    "import joblib"
   ]
  },
  {
   "cell_type": "code",
   "execution_count": 41,
   "id": "805e386d",
   "metadata": {},
   "outputs": [],
   "source": [
    "scaler = joblib.load(\"models/ohe.pkl\")"
   ]
  },
  {
   "cell_type": "code",
   "execution_count": 42,
   "id": "6cd58669",
   "metadata": {},
   "outputs": [],
   "source": [
    "def transform_OHE(data, ohe_encoder):\n",
    "    ohe_col = ohe_encoder.get_feature_names_out(data.columns)\n",
    "    \n",
    "    data_ohe = ohe_encoder.transform(data).toarray()\n",
    "    data_ohe = pd.DataFrame(data = data_ohe,\n",
    "                            columns = ohe_col,\n",
    "                            index = data.index)\n",
    "    \n",
    "    return data_ohe, ohe_col"
   ]
  },
  {
   "cell_type": "code",
   "execution_count": 43,
   "id": "d42e7343",
   "metadata": {},
   "outputs": [],
   "source": [
    "X_train_cat_ohe, ohe_col = transform_OHE(data = X_train_cat,\n",
    "                                         ohe_encoder = scaler)\n",
    "\n",
    "X_test_cat_ohe, ohe_col = transform_OHE(data = X_test_cat,\n",
    "                                        ohe_encoder = scaler)"
   ]
  },
  {
   "cell_type": "code",
   "execution_count": 44,
   "id": "8e907783",
   "metadata": {
    "scrolled": true
   },
   "outputs": [
    {
     "data": {
      "text/html": [
       "<div>\n",
       "<style scoped>\n",
       "    .dataframe tbody tr th:only-of-type {\n",
       "        vertical-align: middle;\n",
       "    }\n",
       "\n",
       "    .dataframe tbody tr th {\n",
       "        vertical-align: top;\n",
       "    }\n",
       "\n",
       "    .dataframe thead th {\n",
       "        text-align: right;\n",
       "    }\n",
       "</style>\n",
       "<table border=\"1\" class=\"dataframe\">\n",
       "  <thead>\n",
       "    <tr style=\"text-align: right;\">\n",
       "      <th></th>\n",
       "      <th>Sex_F</th>\n",
       "      <th>Sex_M</th>\n",
       "      <th>ChestPainType_ASY</th>\n",
       "      <th>ChestPainType_ATA</th>\n",
       "      <th>ChestPainType_NAP</th>\n",
       "      <th>ChestPainType_TA</th>\n",
       "      <th>FastingBS_0</th>\n",
       "      <th>FastingBS_1</th>\n",
       "      <th>RestingECG_LVH</th>\n",
       "      <th>RestingECG_Normal</th>\n",
       "      <th>RestingECG_ST</th>\n",
       "      <th>ExerciseAngina_N</th>\n",
       "      <th>ExerciseAngina_Y</th>\n",
       "      <th>ST_Slope_Down</th>\n",
       "      <th>ST_Slope_Flat</th>\n",
       "      <th>ST_Slope_Up</th>\n",
       "    </tr>\n",
       "  </thead>\n",
       "  <tbody>\n",
       "    <tr>\n",
       "      <th>485</th>\n",
       "      <td>0.0</td>\n",
       "      <td>1.0</td>\n",
       "      <td>0.0</td>\n",
       "      <td>1.0</td>\n",
       "      <td>0.0</td>\n",
       "      <td>0.0</td>\n",
       "      <td>0.0</td>\n",
       "      <td>1.0</td>\n",
       "      <td>0.0</td>\n",
       "      <td>0.0</td>\n",
       "      <td>1.0</td>\n",
       "      <td>0.0</td>\n",
       "      <td>1.0</td>\n",
       "      <td>0.0</td>\n",
       "      <td>1.0</td>\n",
       "      <td>0.0</td>\n",
       "    </tr>\n",
       "    <tr>\n",
       "      <th>486</th>\n",
       "      <td>0.0</td>\n",
       "      <td>1.0</td>\n",
       "      <td>0.0</td>\n",
       "      <td>1.0</td>\n",
       "      <td>0.0</td>\n",
       "      <td>0.0</td>\n",
       "      <td>0.0</td>\n",
       "      <td>1.0</td>\n",
       "      <td>0.0</td>\n",
       "      <td>0.0</td>\n",
       "      <td>1.0</td>\n",
       "      <td>1.0</td>\n",
       "      <td>0.0</td>\n",
       "      <td>0.0</td>\n",
       "      <td>0.0</td>\n",
       "      <td>1.0</td>\n",
       "    </tr>\n",
       "    <tr>\n",
       "      <th>117</th>\n",
       "      <td>1.0</td>\n",
       "      <td>0.0</td>\n",
       "      <td>1.0</td>\n",
       "      <td>0.0</td>\n",
       "      <td>0.0</td>\n",
       "      <td>0.0</td>\n",
       "      <td>0.0</td>\n",
       "      <td>1.0</td>\n",
       "      <td>0.0</td>\n",
       "      <td>0.0</td>\n",
       "      <td>1.0</td>\n",
       "      <td>0.0</td>\n",
       "      <td>1.0</td>\n",
       "      <td>0.0</td>\n",
       "      <td>1.0</td>\n",
       "      <td>0.0</td>\n",
       "    </tr>\n",
       "    <tr>\n",
       "      <th>361</th>\n",
       "      <td>0.0</td>\n",
       "      <td>1.0</td>\n",
       "      <td>1.0</td>\n",
       "      <td>0.0</td>\n",
       "      <td>0.0</td>\n",
       "      <td>0.0</td>\n",
       "      <td>1.0</td>\n",
       "      <td>0.0</td>\n",
       "      <td>0.0</td>\n",
       "      <td>1.0</td>\n",
       "      <td>0.0</td>\n",
       "      <td>0.0</td>\n",
       "      <td>1.0</td>\n",
       "      <td>0.0</td>\n",
       "      <td>1.0</td>\n",
       "      <td>0.0</td>\n",
       "    </tr>\n",
       "    <tr>\n",
       "      <th>296</th>\n",
       "      <td>0.0</td>\n",
       "      <td>1.0</td>\n",
       "      <td>1.0</td>\n",
       "      <td>0.0</td>\n",
       "      <td>0.0</td>\n",
       "      <td>0.0</td>\n",
       "      <td>0.0</td>\n",
       "      <td>1.0</td>\n",
       "      <td>0.0</td>\n",
       "      <td>1.0</td>\n",
       "      <td>0.0</td>\n",
       "      <td>0.0</td>\n",
       "      <td>1.0</td>\n",
       "      <td>0.0</td>\n",
       "      <td>1.0</td>\n",
       "      <td>0.0</td>\n",
       "    </tr>\n",
       "    <tr>\n",
       "      <th>...</th>\n",
       "      <td>...</td>\n",
       "      <td>...</td>\n",
       "      <td>...</td>\n",
       "      <td>...</td>\n",
       "      <td>...</td>\n",
       "      <td>...</td>\n",
       "      <td>...</td>\n",
       "      <td>...</td>\n",
       "      <td>...</td>\n",
       "      <td>...</td>\n",
       "      <td>...</td>\n",
       "      <td>...</td>\n",
       "      <td>...</td>\n",
       "      <td>...</td>\n",
       "      <td>...</td>\n",
       "      <td>...</td>\n",
       "    </tr>\n",
       "    <tr>\n",
       "      <th>276</th>\n",
       "      <td>0.0</td>\n",
       "      <td>1.0</td>\n",
       "      <td>0.0</td>\n",
       "      <td>0.0</td>\n",
       "      <td>1.0</td>\n",
       "      <td>0.0</td>\n",
       "      <td>1.0</td>\n",
       "      <td>0.0</td>\n",
       "      <td>0.0</td>\n",
       "      <td>1.0</td>\n",
       "      <td>0.0</td>\n",
       "      <td>1.0</td>\n",
       "      <td>0.0</td>\n",
       "      <td>0.0</td>\n",
       "      <td>1.0</td>\n",
       "      <td>0.0</td>\n",
       "    </tr>\n",
       "    <tr>\n",
       "      <th>201</th>\n",
       "      <td>0.0</td>\n",
       "      <td>1.0</td>\n",
       "      <td>0.0</td>\n",
       "      <td>0.0</td>\n",
       "      <td>1.0</td>\n",
       "      <td>0.0</td>\n",
       "      <td>1.0</td>\n",
       "      <td>0.0</td>\n",
       "      <td>0.0</td>\n",
       "      <td>1.0</td>\n",
       "      <td>0.0</td>\n",
       "      <td>1.0</td>\n",
       "      <td>0.0</td>\n",
       "      <td>0.0</td>\n",
       "      <td>0.0</td>\n",
       "      <td>1.0</td>\n",
       "    </tr>\n",
       "    <tr>\n",
       "      <th>462</th>\n",
       "      <td>0.0</td>\n",
       "      <td>1.0</td>\n",
       "      <td>1.0</td>\n",
       "      <td>0.0</td>\n",
       "      <td>0.0</td>\n",
       "      <td>0.0</td>\n",
       "      <td>1.0</td>\n",
       "      <td>0.0</td>\n",
       "      <td>0.0</td>\n",
       "      <td>1.0</td>\n",
       "      <td>0.0</td>\n",
       "      <td>0.0</td>\n",
       "      <td>1.0</td>\n",
       "      <td>1.0</td>\n",
       "      <td>0.0</td>\n",
       "      <td>0.0</td>\n",
       "    </tr>\n",
       "    <tr>\n",
       "      <th>252</th>\n",
       "      <td>0.0</td>\n",
       "      <td>1.0</td>\n",
       "      <td>1.0</td>\n",
       "      <td>0.0</td>\n",
       "      <td>0.0</td>\n",
       "      <td>0.0</td>\n",
       "      <td>1.0</td>\n",
       "      <td>0.0</td>\n",
       "      <td>0.0</td>\n",
       "      <td>0.0</td>\n",
       "      <td>1.0</td>\n",
       "      <td>0.0</td>\n",
       "      <td>1.0</td>\n",
       "      <td>0.0</td>\n",
       "      <td>0.0</td>\n",
       "      <td>1.0</td>\n",
       "    </tr>\n",
       "    <tr>\n",
       "      <th>62</th>\n",
       "      <td>0.0</td>\n",
       "      <td>1.0</td>\n",
       "      <td>1.0</td>\n",
       "      <td>0.0</td>\n",
       "      <td>0.0</td>\n",
       "      <td>0.0</td>\n",
       "      <td>1.0</td>\n",
       "      <td>0.0</td>\n",
       "      <td>0.0</td>\n",
       "      <td>1.0</td>\n",
       "      <td>0.0</td>\n",
       "      <td>1.0</td>\n",
       "      <td>0.0</td>\n",
       "      <td>0.0</td>\n",
       "      <td>0.0</td>\n",
       "      <td>1.0</td>\n",
       "    </tr>\n",
       "  </tbody>\n",
       "</table>\n",
       "<p>734 rows × 16 columns</p>\n",
       "</div>"
      ],
      "text/plain": [
       "     Sex_F  Sex_M  ChestPainType_ASY  ChestPainType_ATA  ChestPainType_NAP  \\\n",
       "485    0.0    1.0                0.0                1.0                0.0   \n",
       "486    0.0    1.0                0.0                1.0                0.0   \n",
       "117    1.0    0.0                1.0                0.0                0.0   \n",
       "361    0.0    1.0                1.0                0.0                0.0   \n",
       "296    0.0    1.0                1.0                0.0                0.0   \n",
       "..     ...    ...                ...                ...                ...   \n",
       "276    0.0    1.0                0.0                0.0                1.0   \n",
       "201    0.0    1.0                0.0                0.0                1.0   \n",
       "462    0.0    1.0                1.0                0.0                0.0   \n",
       "252    0.0    1.0                1.0                0.0                0.0   \n",
       "62     0.0    1.0                1.0                0.0                0.0   \n",
       "\n",
       "     ChestPainType_TA  FastingBS_0  FastingBS_1  RestingECG_LVH  \\\n",
       "485               0.0          0.0          1.0             0.0   \n",
       "486               0.0          0.0          1.0             0.0   \n",
       "117               0.0          0.0          1.0             0.0   \n",
       "361               0.0          1.0          0.0             0.0   \n",
       "296               0.0          0.0          1.0             0.0   \n",
       "..                ...          ...          ...             ...   \n",
       "276               0.0          1.0          0.0             0.0   \n",
       "201               0.0          1.0          0.0             0.0   \n",
       "462               0.0          1.0          0.0             0.0   \n",
       "252               0.0          1.0          0.0             0.0   \n",
       "62                0.0          1.0          0.0             0.0   \n",
       "\n",
       "     RestingECG_Normal  RestingECG_ST  ExerciseAngina_N  ExerciseAngina_Y  \\\n",
       "485                0.0            1.0               0.0               1.0   \n",
       "486                0.0            1.0               1.0               0.0   \n",
       "117                0.0            1.0               0.0               1.0   \n",
       "361                1.0            0.0               0.0               1.0   \n",
       "296                1.0            0.0               0.0               1.0   \n",
       "..                 ...            ...               ...               ...   \n",
       "276                1.0            0.0               1.0               0.0   \n",
       "201                1.0            0.0               1.0               0.0   \n",
       "462                1.0            0.0               0.0               1.0   \n",
       "252                0.0            1.0               0.0               1.0   \n",
       "62                 1.0            0.0               1.0               0.0   \n",
       "\n",
       "     ST_Slope_Down  ST_Slope_Flat  ST_Slope_Up  \n",
       "485            0.0            1.0          0.0  \n",
       "486            0.0            0.0          1.0  \n",
       "117            0.0            1.0          0.0  \n",
       "361            0.0            1.0          0.0  \n",
       "296            0.0            1.0          0.0  \n",
       "..             ...            ...          ...  \n",
       "276            0.0            1.0          0.0  \n",
       "201            0.0            0.0          1.0  \n",
       "462            1.0            0.0          0.0  \n",
       "252            0.0            0.0          1.0  \n",
       "62             0.0            0.0          1.0  \n",
       "\n",
       "[734 rows x 16 columns]"
      ]
     },
     "execution_count": 44,
     "metadata": {},
     "output_type": "execute_result"
    }
   ],
   "source": [
    "X_train_cat_ohe"
   ]
  },
  {
   "cell_type": "code",
   "execution_count": 45,
   "id": "b0af3e57",
   "metadata": {},
   "outputs": [
    {
     "data": {
      "text/html": [
       "<div>\n",
       "<style scoped>\n",
       "    .dataframe tbody tr th:only-of-type {\n",
       "        vertical-align: middle;\n",
       "    }\n",
       "\n",
       "    .dataframe tbody tr th {\n",
       "        vertical-align: top;\n",
       "    }\n",
       "\n",
       "    .dataframe thead th {\n",
       "        text-align: right;\n",
       "    }\n",
       "</style>\n",
       "<table border=\"1\" class=\"dataframe\">\n",
       "  <thead>\n",
       "    <tr style=\"text-align: right;\">\n",
       "      <th></th>\n",
       "      <th>Sex_F</th>\n",
       "      <th>Sex_M</th>\n",
       "      <th>ChestPainType_ASY</th>\n",
       "      <th>ChestPainType_ATA</th>\n",
       "      <th>ChestPainType_NAP</th>\n",
       "      <th>ChestPainType_TA</th>\n",
       "      <th>FastingBS_0</th>\n",
       "      <th>FastingBS_1</th>\n",
       "      <th>RestingECG_LVH</th>\n",
       "      <th>RestingECG_Normal</th>\n",
       "      <th>RestingECG_ST</th>\n",
       "      <th>ExerciseAngina_N</th>\n",
       "      <th>ExerciseAngina_Y</th>\n",
       "      <th>ST_Slope_Down</th>\n",
       "      <th>ST_Slope_Flat</th>\n",
       "      <th>ST_Slope_Up</th>\n",
       "    </tr>\n",
       "  </thead>\n",
       "  <tbody>\n",
       "    <tr>\n",
       "      <th>356</th>\n",
       "      <td>0.0</td>\n",
       "      <td>1.0</td>\n",
       "      <td>1.0</td>\n",
       "      <td>0.0</td>\n",
       "      <td>0.0</td>\n",
       "      <td>0.0</td>\n",
       "      <td>1.0</td>\n",
       "      <td>0.0</td>\n",
       "      <td>0.0</td>\n",
       "      <td>1.0</td>\n",
       "      <td>0.0</td>\n",
       "      <td>0.0</td>\n",
       "      <td>1.0</td>\n",
       "      <td>0.0</td>\n",
       "      <td>1.0</td>\n",
       "      <td>0.0</td>\n",
       "    </tr>\n",
       "    <tr>\n",
       "      <th>763</th>\n",
       "      <td>0.0</td>\n",
       "      <td>1.0</td>\n",
       "      <td>0.0</td>\n",
       "      <td>0.0</td>\n",
       "      <td>1.0</td>\n",
       "      <td>0.0</td>\n",
       "      <td>1.0</td>\n",
       "      <td>0.0</td>\n",
       "      <td>1.0</td>\n",
       "      <td>0.0</td>\n",
       "      <td>0.0</td>\n",
       "      <td>1.0</td>\n",
       "      <td>0.0</td>\n",
       "      <td>0.0</td>\n",
       "      <td>0.0</td>\n",
       "      <td>1.0</td>\n",
       "    </tr>\n",
       "    <tr>\n",
       "      <th>817</th>\n",
       "      <td>0.0</td>\n",
       "      <td>1.0</td>\n",
       "      <td>1.0</td>\n",
       "      <td>0.0</td>\n",
       "      <td>0.0</td>\n",
       "      <td>0.0</td>\n",
       "      <td>1.0</td>\n",
       "      <td>0.0</td>\n",
       "      <td>1.0</td>\n",
       "      <td>0.0</td>\n",
       "      <td>0.0</td>\n",
       "      <td>0.0</td>\n",
       "      <td>1.0</td>\n",
       "      <td>0.0</td>\n",
       "      <td>1.0</td>\n",
       "      <td>0.0</td>\n",
       "    </tr>\n",
       "    <tr>\n",
       "      <th>735</th>\n",
       "      <td>0.0</td>\n",
       "      <td>1.0</td>\n",
       "      <td>0.0</td>\n",
       "      <td>0.0</td>\n",
       "      <td>1.0</td>\n",
       "      <td>0.0</td>\n",
       "      <td>1.0</td>\n",
       "      <td>0.0</td>\n",
       "      <td>0.0</td>\n",
       "      <td>1.0</td>\n",
       "      <td>0.0</td>\n",
       "      <td>1.0</td>\n",
       "      <td>0.0</td>\n",
       "      <td>0.0</td>\n",
       "      <td>1.0</td>\n",
       "      <td>0.0</td>\n",
       "    </tr>\n",
       "    <tr>\n",
       "      <th>892</th>\n",
       "      <td>1.0</td>\n",
       "      <td>0.0</td>\n",
       "      <td>0.0</td>\n",
       "      <td>0.0</td>\n",
       "      <td>1.0</td>\n",
       "      <td>0.0</td>\n",
       "      <td>1.0</td>\n",
       "      <td>0.0</td>\n",
       "      <td>0.0</td>\n",
       "      <td>1.0</td>\n",
       "      <td>0.0</td>\n",
       "      <td>1.0</td>\n",
       "      <td>0.0</td>\n",
       "      <td>0.0</td>\n",
       "      <td>1.0</td>\n",
       "      <td>0.0</td>\n",
       "    </tr>\n",
       "    <tr>\n",
       "      <th>...</th>\n",
       "      <td>...</td>\n",
       "      <td>...</td>\n",
       "      <td>...</td>\n",
       "      <td>...</td>\n",
       "      <td>...</td>\n",
       "      <td>...</td>\n",
       "      <td>...</td>\n",
       "      <td>...</td>\n",
       "      <td>...</td>\n",
       "      <td>...</td>\n",
       "      <td>...</td>\n",
       "      <td>...</td>\n",
       "      <td>...</td>\n",
       "      <td>...</td>\n",
       "      <td>...</td>\n",
       "      <td>...</td>\n",
       "    </tr>\n",
       "    <tr>\n",
       "      <th>52</th>\n",
       "      <td>0.0</td>\n",
       "      <td>1.0</td>\n",
       "      <td>0.0</td>\n",
       "      <td>1.0</td>\n",
       "      <td>0.0</td>\n",
       "      <td>0.0</td>\n",
       "      <td>0.0</td>\n",
       "      <td>1.0</td>\n",
       "      <td>0.0</td>\n",
       "      <td>1.0</td>\n",
       "      <td>0.0</td>\n",
       "      <td>1.0</td>\n",
       "      <td>0.0</td>\n",
       "      <td>0.0</td>\n",
       "      <td>0.0</td>\n",
       "      <td>1.0</td>\n",
       "    </tr>\n",
       "    <tr>\n",
       "      <th>752</th>\n",
       "      <td>0.0</td>\n",
       "      <td>1.0</td>\n",
       "      <td>1.0</td>\n",
       "      <td>0.0</td>\n",
       "      <td>0.0</td>\n",
       "      <td>0.0</td>\n",
       "      <td>0.0</td>\n",
       "      <td>1.0</td>\n",
       "      <td>1.0</td>\n",
       "      <td>0.0</td>\n",
       "      <td>0.0</td>\n",
       "      <td>0.0</td>\n",
       "      <td>1.0</td>\n",
       "      <td>0.0</td>\n",
       "      <td>1.0</td>\n",
       "      <td>0.0</td>\n",
       "    </tr>\n",
       "    <tr>\n",
       "      <th>492</th>\n",
       "      <td>0.0</td>\n",
       "      <td>1.0</td>\n",
       "      <td>0.0</td>\n",
       "      <td>0.0</td>\n",
       "      <td>0.0</td>\n",
       "      <td>1.0</td>\n",
       "      <td>1.0</td>\n",
       "      <td>0.0</td>\n",
       "      <td>0.0</td>\n",
       "      <td>0.0</td>\n",
       "      <td>1.0</td>\n",
       "      <td>1.0</td>\n",
       "      <td>0.0</td>\n",
       "      <td>0.0</td>\n",
       "      <td>1.0</td>\n",
       "      <td>0.0</td>\n",
       "    </tr>\n",
       "    <tr>\n",
       "      <th>622</th>\n",
       "      <td>0.0</td>\n",
       "      <td>1.0</td>\n",
       "      <td>1.0</td>\n",
       "      <td>0.0</td>\n",
       "      <td>0.0</td>\n",
       "      <td>0.0</td>\n",
       "      <td>1.0</td>\n",
       "      <td>0.0</td>\n",
       "      <td>1.0</td>\n",
       "      <td>0.0</td>\n",
       "      <td>0.0</td>\n",
       "      <td>0.0</td>\n",
       "      <td>1.0</td>\n",
       "      <td>0.0</td>\n",
       "      <td>1.0</td>\n",
       "      <td>0.0</td>\n",
       "    </tr>\n",
       "    <tr>\n",
       "      <th>316</th>\n",
       "      <td>0.0</td>\n",
       "      <td>1.0</td>\n",
       "      <td>0.0</td>\n",
       "      <td>0.0</td>\n",
       "      <td>1.0</td>\n",
       "      <td>0.0</td>\n",
       "      <td>0.0</td>\n",
       "      <td>1.0</td>\n",
       "      <td>0.0</td>\n",
       "      <td>1.0</td>\n",
       "      <td>0.0</td>\n",
       "      <td>1.0</td>\n",
       "      <td>0.0</td>\n",
       "      <td>0.0</td>\n",
       "      <td>1.0</td>\n",
       "      <td>0.0</td>\n",
       "    </tr>\n",
       "  </tbody>\n",
       "</table>\n",
       "<p>184 rows × 16 columns</p>\n",
       "</div>"
      ],
      "text/plain": [
       "     Sex_F  Sex_M  ChestPainType_ASY  ChestPainType_ATA  ChestPainType_NAP  \\\n",
       "356    0.0    1.0                1.0                0.0                0.0   \n",
       "763    0.0    1.0                0.0                0.0                1.0   \n",
       "817    0.0    1.0                1.0                0.0                0.0   \n",
       "735    0.0    1.0                0.0                0.0                1.0   \n",
       "892    1.0    0.0                0.0                0.0                1.0   \n",
       "..     ...    ...                ...                ...                ...   \n",
       "52     0.0    1.0                0.0                1.0                0.0   \n",
       "752    0.0    1.0                1.0                0.0                0.0   \n",
       "492    0.0    1.0                0.0                0.0                0.0   \n",
       "622    0.0    1.0                1.0                0.0                0.0   \n",
       "316    0.0    1.0                0.0                0.0                1.0   \n",
       "\n",
       "     ChestPainType_TA  FastingBS_0  FastingBS_1  RestingECG_LVH  \\\n",
       "356               0.0          1.0          0.0             0.0   \n",
       "763               0.0          1.0          0.0             1.0   \n",
       "817               0.0          1.0          0.0             1.0   \n",
       "735               0.0          1.0          0.0             0.0   \n",
       "892               0.0          1.0          0.0             0.0   \n",
       "..                ...          ...          ...             ...   \n",
       "52                0.0          0.0          1.0             0.0   \n",
       "752               0.0          0.0          1.0             1.0   \n",
       "492               1.0          1.0          0.0             0.0   \n",
       "622               0.0          1.0          0.0             1.0   \n",
       "316               0.0          0.0          1.0             0.0   \n",
       "\n",
       "     RestingECG_Normal  RestingECG_ST  ExerciseAngina_N  ExerciseAngina_Y  \\\n",
       "356                1.0            0.0               0.0               1.0   \n",
       "763                0.0            0.0               1.0               0.0   \n",
       "817                0.0            0.0               0.0               1.0   \n",
       "735                1.0            0.0               1.0               0.0   \n",
       "892                1.0            0.0               1.0               0.0   \n",
       "..                 ...            ...               ...               ...   \n",
       "52                 1.0            0.0               1.0               0.0   \n",
       "752                0.0            0.0               0.0               1.0   \n",
       "492                0.0            1.0               1.0               0.0   \n",
       "622                0.0            0.0               0.0               1.0   \n",
       "316                1.0            0.0               1.0               0.0   \n",
       "\n",
       "     ST_Slope_Down  ST_Slope_Flat  ST_Slope_Up  \n",
       "356            0.0            1.0          0.0  \n",
       "763            0.0            0.0          1.0  \n",
       "817            0.0            1.0          0.0  \n",
       "735            0.0            1.0          0.0  \n",
       "892            0.0            1.0          0.0  \n",
       "..             ...            ...          ...  \n",
       "52             0.0            0.0          1.0  \n",
       "752            0.0            1.0          0.0  \n",
       "492            0.0            1.0          0.0  \n",
       "622            0.0            1.0          0.0  \n",
       "316            0.0            1.0          0.0  \n",
       "\n",
       "[184 rows x 16 columns]"
      ]
     },
     "execution_count": 45,
     "metadata": {},
     "output_type": "execute_result"
    }
   ],
   "source": [
    "X_test_cat_ohe"
   ]
  },
  {
   "cell_type": "markdown",
   "id": "b41a21a0",
   "metadata": {},
   "source": [
    "#### StandardScaler "
   ]
  },
  {
   "cell_type": "code",
   "execution_count": 46,
   "id": "24f3090d",
   "metadata": {},
   "outputs": [],
   "source": [
    "from sklearn.preprocessing import StandardScaler"
   ]
  },
  {
   "cell_type": "code",
   "execution_count": 47,
   "id": "37d9831a",
   "metadata": {},
   "outputs": [],
   "source": [
    "scaler = joblib.load(\"models/scaler.pkl\")"
   ]
  },
  {
   "cell_type": "code",
   "execution_count": 48,
   "id": "9af978e4",
   "metadata": {},
   "outputs": [],
   "source": [
    "X_train_num_scaled = scaler.transform(X_train_num)\n",
    "X_test_num_scaled = scaler.transform(X_test_num)"
   ]
  },
  {
   "cell_type": "code",
   "execution_count": 49,
   "id": "c6a8c424",
   "metadata": {},
   "outputs": [],
   "source": [
    "X_train_num_scaled = pd.DataFrame(data = X_train_num_scaled,\n",
    "                                  columns = X_train_num.columns,\n",
    "                                  index = X_train_num.index)"
   ]
  },
  {
   "cell_type": "code",
   "execution_count": 50,
   "id": "0aadba1f",
   "metadata": {},
   "outputs": [
    {
     "data": {
      "text/html": [
       "<div>\n",
       "<style scoped>\n",
       "    .dataframe tbody tr th:only-of-type {\n",
       "        vertical-align: middle;\n",
       "    }\n",
       "\n",
       "    .dataframe tbody tr th {\n",
       "        vertical-align: top;\n",
       "    }\n",
       "\n",
       "    .dataframe thead th {\n",
       "        text-align: right;\n",
       "    }\n",
       "</style>\n",
       "<table border=\"1\" class=\"dataframe\">\n",
       "  <thead>\n",
       "    <tr style=\"text-align: right;\">\n",
       "      <th></th>\n",
       "      <th>Age</th>\n",
       "      <th>RestingBP</th>\n",
       "      <th>Cholesterol</th>\n",
       "      <th>MaxHR</th>\n",
       "      <th>Oldpeak</th>\n",
       "    </tr>\n",
       "  </thead>\n",
       "  <tbody>\n",
       "    <tr>\n",
       "      <th>485</th>\n",
       "      <td>0.970012</td>\n",
       "      <td>0.339016</td>\n",
       "      <td>-0.470835</td>\n",
       "      <td>-0.324520</td>\n",
       "      <td>0.317046</td>\n",
       "    </tr>\n",
       "    <tr>\n",
       "      <th>486</th>\n",
       "      <td>0.122028</td>\n",
       "      <td>-1.266031</td>\n",
       "      <td>-0.525644</td>\n",
       "      <td>1.689837</td>\n",
       "      <td>-0.440356</td>\n",
       "    </tr>\n",
       "    <tr>\n",
       "      <th>117</th>\n",
       "      <td>0.546020</td>\n",
       "      <td>-0.159102</td>\n",
       "      <td>1.739818</td>\n",
       "      <td>-0.247045</td>\n",
       "      <td>0.601071</td>\n",
       "    </tr>\n",
       "    <tr>\n",
       "      <th>361</th>\n",
       "      <td>-0.725956</td>\n",
       "      <td>1.501291</td>\n",
       "      <td>-0.324676</td>\n",
       "      <td>-0.479470</td>\n",
       "      <td>-0.819056</td>\n",
       "    </tr>\n",
       "    <tr>\n",
       "      <th>296</th>\n",
       "      <td>-0.407962</td>\n",
       "      <td>0.671094</td>\n",
       "      <td>-0.324676</td>\n",
       "      <td>0.101594</td>\n",
       "      <td>-0.156330</td>\n",
       "    </tr>\n",
       "    <tr>\n",
       "      <th>...</th>\n",
       "      <td>...</td>\n",
       "      <td>...</td>\n",
       "      <td>...</td>\n",
       "      <td>...</td>\n",
       "      <td>...</td>\n",
       "    </tr>\n",
       "    <tr>\n",
       "      <th>276</th>\n",
       "      <td>-0.301964</td>\n",
       "      <td>0.117630</td>\n",
       "      <td>-1.512216</td>\n",
       "      <td>0.527708</td>\n",
       "      <td>1.074447</td>\n",
       "    </tr>\n",
       "    <tr>\n",
       "      <th>201</th>\n",
       "      <td>-0.831954</td>\n",
       "      <td>-0.712567</td>\n",
       "      <td>-0.233326</td>\n",
       "      <td>0.527708</td>\n",
       "      <td>-0.819056</td>\n",
       "    </tr>\n",
       "    <tr>\n",
       "      <th>462</th>\n",
       "      <td>0.546020</td>\n",
       "      <td>-0.601874</td>\n",
       "      <td>-0.178517</td>\n",
       "      <td>-0.750634</td>\n",
       "      <td>0.411721</td>\n",
       "    </tr>\n",
       "    <tr>\n",
       "      <th>252</th>\n",
       "      <td>0.758016</td>\n",
       "      <td>-0.435834</td>\n",
       "      <td>0.899404</td>\n",
       "      <td>-0.828109</td>\n",
       "      <td>-0.819056</td>\n",
       "    </tr>\n",
       "    <tr>\n",
       "      <th>62</th>\n",
       "      <td>-0.937952</td>\n",
       "      <td>0.394362</td>\n",
       "      <td>-0.342946</td>\n",
       "      <td>0.295282</td>\n",
       "      <td>-0.819056</td>\n",
       "    </tr>\n",
       "  </tbody>\n",
       "</table>\n",
       "<p>734 rows × 5 columns</p>\n",
       "</div>"
      ],
      "text/plain": [
       "          Age  RestingBP  Cholesterol     MaxHR   Oldpeak\n",
       "485  0.970012   0.339016    -0.470835 -0.324520  0.317046\n",
       "486  0.122028  -1.266031    -0.525644  1.689837 -0.440356\n",
       "117  0.546020  -0.159102     1.739818 -0.247045  0.601071\n",
       "361 -0.725956   1.501291    -0.324676 -0.479470 -0.819056\n",
       "296 -0.407962   0.671094    -0.324676  0.101594 -0.156330\n",
       "..        ...        ...          ...       ...       ...\n",
       "276 -0.301964   0.117630    -1.512216  0.527708  1.074447\n",
       "201 -0.831954  -0.712567    -0.233326  0.527708 -0.819056\n",
       "462  0.546020  -0.601874    -0.178517 -0.750634  0.411721\n",
       "252  0.758016  -0.435834     0.899404 -0.828109 -0.819056\n",
       "62  -0.937952   0.394362    -0.342946  0.295282 -0.819056\n",
       "\n",
       "[734 rows x 5 columns]"
      ]
     },
     "execution_count": 50,
     "metadata": {},
     "output_type": "execute_result"
    }
   ],
   "source": [
    "X_train_num_scaled"
   ]
  },
  {
   "cell_type": "code",
   "execution_count": 51,
   "id": "039231c8",
   "metadata": {},
   "outputs": [],
   "source": [
    "X_test_num_scaled = pd.DataFrame(data = X_test_num_scaled,\n",
    "                                 columns = X_test_num.columns,\n",
    "                                 index = X_test_num.index)"
   ]
  },
  {
   "cell_type": "code",
   "execution_count": 52,
   "id": "f58ad34b",
   "metadata": {},
   "outputs": [
    {
     "data": {
      "text/html": [
       "<div>\n",
       "<style scoped>\n",
       "    .dataframe tbody tr th:only-of-type {\n",
       "        vertical-align: middle;\n",
       "    }\n",
       "\n",
       "    .dataframe tbody tr th {\n",
       "        vertical-align: top;\n",
       "    }\n",
       "\n",
       "    .dataframe thead th {\n",
       "        text-align: right;\n",
       "    }\n",
       "</style>\n",
       "<table border=\"1\" class=\"dataframe\">\n",
       "  <thead>\n",
       "    <tr style=\"text-align: right;\">\n",
       "      <th></th>\n",
       "      <th>Age</th>\n",
       "      <th>RestingBP</th>\n",
       "      <th>Cholesterol</th>\n",
       "      <th>MaxHR</th>\n",
       "      <th>Oldpeak</th>\n",
       "    </tr>\n",
       "  </thead>\n",
       "  <tbody>\n",
       "    <tr>\n",
       "      <th>356</th>\n",
       "      <td>-0.831954</td>\n",
       "      <td>-0.989299</td>\n",
       "      <td>-0.324676</td>\n",
       "      <td>-0.905584</td>\n",
       "      <td>0.601071</td>\n",
       "    </tr>\n",
       "    <tr>\n",
       "      <th>763</th>\n",
       "      <td>0.440022</td>\n",
       "      <td>-0.048409</td>\n",
       "      <td>-0.342946</td>\n",
       "      <td>1.418673</td>\n",
       "      <td>2.210549</td>\n",
       "    </tr>\n",
       "    <tr>\n",
       "      <th>817</th>\n",
       "      <td>0.652018</td>\n",
       "      <td>-0.435834</td>\n",
       "      <td>0.278229</td>\n",
       "      <td>0.179069</td>\n",
       "      <td>1.831848</td>\n",
       "    </tr>\n",
       "    <tr>\n",
       "      <th>735</th>\n",
       "      <td>-0.513960</td>\n",
       "      <td>-0.712567</td>\n",
       "      <td>-1.000660</td>\n",
       "      <td>0.101594</td>\n",
       "      <td>1.074447</td>\n",
       "    </tr>\n",
       "    <tr>\n",
       "      <th>892</th>\n",
       "      <td>-1.573940</td>\n",
       "      <td>0.283669</td>\n",
       "      <td>-0.416025</td>\n",
       "      <td>0.605183</td>\n",
       "      <td>-0.819056</td>\n",
       "    </tr>\n",
       "    <tr>\n",
       "      <th>...</th>\n",
       "      <td>...</td>\n",
       "      <td>...</td>\n",
       "      <td>...</td>\n",
       "      <td>...</td>\n",
       "      <td>...</td>\n",
       "    </tr>\n",
       "    <tr>\n",
       "      <th>52</th>\n",
       "      <td>-0.937952</td>\n",
       "      <td>0.394362</td>\n",
       "      <td>-0.342946</td>\n",
       "      <td>-0.556946</td>\n",
       "      <td>-0.819056</td>\n",
       "    </tr>\n",
       "    <tr>\n",
       "      <th>752</th>\n",
       "      <td>0.228026</td>\n",
       "      <td>-0.435834</td>\n",
       "      <td>0.113801</td>\n",
       "      <td>0.295282</td>\n",
       "      <td>0.317046</td>\n",
       "    </tr>\n",
       "    <tr>\n",
       "      <th>492</th>\n",
       "      <td>-0.513960</td>\n",
       "      <td>-0.159102</td>\n",
       "      <td>-0.324676</td>\n",
       "      <td>0.334020</td>\n",
       "      <td>2.021198</td>\n",
       "    </tr>\n",
       "    <tr>\n",
       "      <th>622</th>\n",
       "      <td>0.546020</td>\n",
       "      <td>-1.266031</td>\n",
       "      <td>-0.068898</td>\n",
       "      <td>0.217807</td>\n",
       "      <td>0.317046</td>\n",
       "    </tr>\n",
       "    <tr>\n",
       "      <th>316</th>\n",
       "      <td>0.334024</td>\n",
       "      <td>-1.542763</td>\n",
       "      <td>-0.324676</td>\n",
       "      <td>0.450233</td>\n",
       "      <td>-0.535031</td>\n",
       "    </tr>\n",
       "  </tbody>\n",
       "</table>\n",
       "<p>184 rows × 5 columns</p>\n",
       "</div>"
      ],
      "text/plain": [
       "          Age  RestingBP  Cholesterol     MaxHR   Oldpeak\n",
       "356 -0.831954  -0.989299    -0.324676 -0.905584  0.601071\n",
       "763  0.440022  -0.048409    -0.342946  1.418673  2.210549\n",
       "817  0.652018  -0.435834     0.278229  0.179069  1.831848\n",
       "735 -0.513960  -0.712567    -1.000660  0.101594  1.074447\n",
       "892 -1.573940   0.283669    -0.416025  0.605183 -0.819056\n",
       "..        ...        ...          ...       ...       ...\n",
       "52  -0.937952   0.394362    -0.342946 -0.556946 -0.819056\n",
       "752  0.228026  -0.435834     0.113801  0.295282  0.317046\n",
       "492 -0.513960  -0.159102    -0.324676  0.334020  2.021198\n",
       "622  0.546020  -1.266031    -0.068898  0.217807  0.317046\n",
       "316  0.334024  -1.542763    -0.324676  0.450233 -0.535031\n",
       "\n",
       "[184 rows x 5 columns]"
      ]
     },
     "execution_count": 52,
     "metadata": {},
     "output_type": "execute_result"
    }
   ],
   "source": [
    "X_test_num_scaled"
   ]
  },
  {
   "cell_type": "markdown",
   "id": "d424e47e",
   "metadata": {},
   "source": [
    "### Merge Data "
   ]
  },
  {
   "cell_type": "code",
   "execution_count": 53,
   "id": "b3fade23",
   "metadata": {},
   "outputs": [],
   "source": [
    "X_train_final = pd.concat([X_train_num_scaled, X_train_cat_ohe], axis=1)"
   ]
  },
  {
   "cell_type": "code",
   "execution_count": 54,
   "id": "14b251d0",
   "metadata": {},
   "outputs": [
    {
     "data": {
      "text/html": [
       "<div>\n",
       "<style scoped>\n",
       "    .dataframe tbody tr th:only-of-type {\n",
       "        vertical-align: middle;\n",
       "    }\n",
       "\n",
       "    .dataframe tbody tr th {\n",
       "        vertical-align: top;\n",
       "    }\n",
       "\n",
       "    .dataframe thead th {\n",
       "        text-align: right;\n",
       "    }\n",
       "</style>\n",
       "<table border=\"1\" class=\"dataframe\">\n",
       "  <thead>\n",
       "    <tr style=\"text-align: right;\">\n",
       "      <th></th>\n",
       "      <th>485</th>\n",
       "      <th>486</th>\n",
       "      <th>117</th>\n",
       "      <th>361</th>\n",
       "      <th>296</th>\n",
       "    </tr>\n",
       "  </thead>\n",
       "  <tbody>\n",
       "    <tr>\n",
       "      <th>Age</th>\n",
       "      <td>0.970012</td>\n",
       "      <td>0.122028</td>\n",
       "      <td>0.546020</td>\n",
       "      <td>-0.725956</td>\n",
       "      <td>-0.407962</td>\n",
       "    </tr>\n",
       "    <tr>\n",
       "      <th>RestingBP</th>\n",
       "      <td>0.339016</td>\n",
       "      <td>-1.266031</td>\n",
       "      <td>-0.159102</td>\n",
       "      <td>1.501291</td>\n",
       "      <td>0.671094</td>\n",
       "    </tr>\n",
       "    <tr>\n",
       "      <th>Cholesterol</th>\n",
       "      <td>-0.470835</td>\n",
       "      <td>-0.525644</td>\n",
       "      <td>1.739818</td>\n",
       "      <td>-0.324676</td>\n",
       "      <td>-0.324676</td>\n",
       "    </tr>\n",
       "    <tr>\n",
       "      <th>MaxHR</th>\n",
       "      <td>-0.324520</td>\n",
       "      <td>1.689837</td>\n",
       "      <td>-0.247045</td>\n",
       "      <td>-0.479470</td>\n",
       "      <td>0.101594</td>\n",
       "    </tr>\n",
       "    <tr>\n",
       "      <th>Oldpeak</th>\n",
       "      <td>0.317046</td>\n",
       "      <td>-0.440356</td>\n",
       "      <td>0.601071</td>\n",
       "      <td>-0.819056</td>\n",
       "      <td>-0.156330</td>\n",
       "    </tr>\n",
       "    <tr>\n",
       "      <th>Sex_F</th>\n",
       "      <td>0.000000</td>\n",
       "      <td>0.000000</td>\n",
       "      <td>1.000000</td>\n",
       "      <td>0.000000</td>\n",
       "      <td>0.000000</td>\n",
       "    </tr>\n",
       "    <tr>\n",
       "      <th>Sex_M</th>\n",
       "      <td>1.000000</td>\n",
       "      <td>1.000000</td>\n",
       "      <td>0.000000</td>\n",
       "      <td>1.000000</td>\n",
       "      <td>1.000000</td>\n",
       "    </tr>\n",
       "    <tr>\n",
       "      <th>ChestPainType_ASY</th>\n",
       "      <td>0.000000</td>\n",
       "      <td>0.000000</td>\n",
       "      <td>1.000000</td>\n",
       "      <td>1.000000</td>\n",
       "      <td>1.000000</td>\n",
       "    </tr>\n",
       "    <tr>\n",
       "      <th>ChestPainType_ATA</th>\n",
       "      <td>1.000000</td>\n",
       "      <td>1.000000</td>\n",
       "      <td>0.000000</td>\n",
       "      <td>0.000000</td>\n",
       "      <td>0.000000</td>\n",
       "    </tr>\n",
       "    <tr>\n",
       "      <th>ChestPainType_NAP</th>\n",
       "      <td>0.000000</td>\n",
       "      <td>0.000000</td>\n",
       "      <td>0.000000</td>\n",
       "      <td>0.000000</td>\n",
       "      <td>0.000000</td>\n",
       "    </tr>\n",
       "    <tr>\n",
       "      <th>ChestPainType_TA</th>\n",
       "      <td>0.000000</td>\n",
       "      <td>0.000000</td>\n",
       "      <td>0.000000</td>\n",
       "      <td>0.000000</td>\n",
       "      <td>0.000000</td>\n",
       "    </tr>\n",
       "    <tr>\n",
       "      <th>FastingBS_0</th>\n",
       "      <td>0.000000</td>\n",
       "      <td>0.000000</td>\n",
       "      <td>0.000000</td>\n",
       "      <td>1.000000</td>\n",
       "      <td>0.000000</td>\n",
       "    </tr>\n",
       "    <tr>\n",
       "      <th>FastingBS_1</th>\n",
       "      <td>1.000000</td>\n",
       "      <td>1.000000</td>\n",
       "      <td>1.000000</td>\n",
       "      <td>0.000000</td>\n",
       "      <td>1.000000</td>\n",
       "    </tr>\n",
       "    <tr>\n",
       "      <th>RestingECG_LVH</th>\n",
       "      <td>0.000000</td>\n",
       "      <td>0.000000</td>\n",
       "      <td>0.000000</td>\n",
       "      <td>0.000000</td>\n",
       "      <td>0.000000</td>\n",
       "    </tr>\n",
       "    <tr>\n",
       "      <th>RestingECG_Normal</th>\n",
       "      <td>0.000000</td>\n",
       "      <td>0.000000</td>\n",
       "      <td>0.000000</td>\n",
       "      <td>1.000000</td>\n",
       "      <td>1.000000</td>\n",
       "    </tr>\n",
       "    <tr>\n",
       "      <th>RestingECG_ST</th>\n",
       "      <td>1.000000</td>\n",
       "      <td>1.000000</td>\n",
       "      <td>1.000000</td>\n",
       "      <td>0.000000</td>\n",
       "      <td>0.000000</td>\n",
       "    </tr>\n",
       "    <tr>\n",
       "      <th>ExerciseAngina_N</th>\n",
       "      <td>0.000000</td>\n",
       "      <td>1.000000</td>\n",
       "      <td>0.000000</td>\n",
       "      <td>0.000000</td>\n",
       "      <td>0.000000</td>\n",
       "    </tr>\n",
       "    <tr>\n",
       "      <th>ExerciseAngina_Y</th>\n",
       "      <td>1.000000</td>\n",
       "      <td>0.000000</td>\n",
       "      <td>1.000000</td>\n",
       "      <td>1.000000</td>\n",
       "      <td>1.000000</td>\n",
       "    </tr>\n",
       "    <tr>\n",
       "      <th>ST_Slope_Down</th>\n",
       "      <td>0.000000</td>\n",
       "      <td>0.000000</td>\n",
       "      <td>0.000000</td>\n",
       "      <td>0.000000</td>\n",
       "      <td>0.000000</td>\n",
       "    </tr>\n",
       "    <tr>\n",
       "      <th>ST_Slope_Flat</th>\n",
       "      <td>1.000000</td>\n",
       "      <td>0.000000</td>\n",
       "      <td>1.000000</td>\n",
       "      <td>1.000000</td>\n",
       "      <td>1.000000</td>\n",
       "    </tr>\n",
       "    <tr>\n",
       "      <th>ST_Slope_Up</th>\n",
       "      <td>0.000000</td>\n",
       "      <td>1.000000</td>\n",
       "      <td>0.000000</td>\n",
       "      <td>0.000000</td>\n",
       "      <td>0.000000</td>\n",
       "    </tr>\n",
       "  </tbody>\n",
       "</table>\n",
       "</div>"
      ],
      "text/plain": [
       "                        485       486       117       361       296\n",
       "Age                0.970012  0.122028  0.546020 -0.725956 -0.407962\n",
       "RestingBP          0.339016 -1.266031 -0.159102  1.501291  0.671094\n",
       "Cholesterol       -0.470835 -0.525644  1.739818 -0.324676 -0.324676\n",
       "MaxHR             -0.324520  1.689837 -0.247045 -0.479470  0.101594\n",
       "Oldpeak            0.317046 -0.440356  0.601071 -0.819056 -0.156330\n",
       "Sex_F              0.000000  0.000000  1.000000  0.000000  0.000000\n",
       "Sex_M              1.000000  1.000000  0.000000  1.000000  1.000000\n",
       "ChestPainType_ASY  0.000000  0.000000  1.000000  1.000000  1.000000\n",
       "ChestPainType_ATA  1.000000  1.000000  0.000000  0.000000  0.000000\n",
       "ChestPainType_NAP  0.000000  0.000000  0.000000  0.000000  0.000000\n",
       "ChestPainType_TA   0.000000  0.000000  0.000000  0.000000  0.000000\n",
       "FastingBS_0        0.000000  0.000000  0.000000  1.000000  0.000000\n",
       "FastingBS_1        1.000000  1.000000  1.000000  0.000000  1.000000\n",
       "RestingECG_LVH     0.000000  0.000000  0.000000  0.000000  0.000000\n",
       "RestingECG_Normal  0.000000  0.000000  0.000000  1.000000  1.000000\n",
       "RestingECG_ST      1.000000  1.000000  1.000000  0.000000  0.000000\n",
       "ExerciseAngina_N   0.000000  1.000000  0.000000  0.000000  0.000000\n",
       "ExerciseAngina_Y   1.000000  0.000000  1.000000  1.000000  1.000000\n",
       "ST_Slope_Down      0.000000  0.000000  0.000000  0.000000  0.000000\n",
       "ST_Slope_Flat      1.000000  0.000000  1.000000  1.000000  1.000000\n",
       "ST_Slope_Up        0.000000  1.000000  0.000000  0.000000  0.000000"
      ]
     },
     "execution_count": 54,
     "metadata": {},
     "output_type": "execute_result"
    }
   ],
   "source": [
    "X_train_final.head().T"
   ]
  },
  {
   "cell_type": "code",
   "execution_count": 55,
   "id": "270035f3",
   "metadata": {},
   "outputs": [],
   "source": [
    "X_test_final = pd.concat([X_test_num_scaled, X_test_cat_ohe], axis=1)"
   ]
  },
  {
   "cell_type": "code",
   "execution_count": 56,
   "id": "dc021523",
   "metadata": {},
   "outputs": [
    {
     "data": {
      "text/html": [
       "<div>\n",
       "<style scoped>\n",
       "    .dataframe tbody tr th:only-of-type {\n",
       "        vertical-align: middle;\n",
       "    }\n",
       "\n",
       "    .dataframe tbody tr th {\n",
       "        vertical-align: top;\n",
       "    }\n",
       "\n",
       "    .dataframe thead th {\n",
       "        text-align: right;\n",
       "    }\n",
       "</style>\n",
       "<table border=\"1\" class=\"dataframe\">\n",
       "  <thead>\n",
       "    <tr style=\"text-align: right;\">\n",
       "      <th></th>\n",
       "      <th>356</th>\n",
       "      <th>763</th>\n",
       "      <th>817</th>\n",
       "      <th>735</th>\n",
       "      <th>892</th>\n",
       "    </tr>\n",
       "  </thead>\n",
       "  <tbody>\n",
       "    <tr>\n",
       "      <th>Age</th>\n",
       "      <td>-0.831954</td>\n",
       "      <td>0.440022</td>\n",
       "      <td>0.652018</td>\n",
       "      <td>-0.513960</td>\n",
       "      <td>-1.573940</td>\n",
       "    </tr>\n",
       "    <tr>\n",
       "      <th>RestingBP</th>\n",
       "      <td>-0.989299</td>\n",
       "      <td>-0.048409</td>\n",
       "      <td>-0.435834</td>\n",
       "      <td>-0.712567</td>\n",
       "      <td>0.283669</td>\n",
       "    </tr>\n",
       "    <tr>\n",
       "      <th>Cholesterol</th>\n",
       "      <td>-0.324676</td>\n",
       "      <td>-0.342946</td>\n",
       "      <td>0.278229</td>\n",
       "      <td>-1.000660</td>\n",
       "      <td>-0.416025</td>\n",
       "    </tr>\n",
       "    <tr>\n",
       "      <th>MaxHR</th>\n",
       "      <td>-0.905584</td>\n",
       "      <td>1.418673</td>\n",
       "      <td>0.179069</td>\n",
       "      <td>0.101594</td>\n",
       "      <td>0.605183</td>\n",
       "    </tr>\n",
       "    <tr>\n",
       "      <th>Oldpeak</th>\n",
       "      <td>0.601071</td>\n",
       "      <td>2.210549</td>\n",
       "      <td>1.831848</td>\n",
       "      <td>1.074447</td>\n",
       "      <td>-0.819056</td>\n",
       "    </tr>\n",
       "    <tr>\n",
       "      <th>Sex_F</th>\n",
       "      <td>0.000000</td>\n",
       "      <td>0.000000</td>\n",
       "      <td>0.000000</td>\n",
       "      <td>0.000000</td>\n",
       "      <td>1.000000</td>\n",
       "    </tr>\n",
       "    <tr>\n",
       "      <th>Sex_M</th>\n",
       "      <td>1.000000</td>\n",
       "      <td>1.000000</td>\n",
       "      <td>1.000000</td>\n",
       "      <td>1.000000</td>\n",
       "      <td>0.000000</td>\n",
       "    </tr>\n",
       "    <tr>\n",
       "      <th>ChestPainType_ASY</th>\n",
       "      <td>1.000000</td>\n",
       "      <td>0.000000</td>\n",
       "      <td>1.000000</td>\n",
       "      <td>0.000000</td>\n",
       "      <td>0.000000</td>\n",
       "    </tr>\n",
       "    <tr>\n",
       "      <th>ChestPainType_ATA</th>\n",
       "      <td>0.000000</td>\n",
       "      <td>0.000000</td>\n",
       "      <td>0.000000</td>\n",
       "      <td>0.000000</td>\n",
       "      <td>0.000000</td>\n",
       "    </tr>\n",
       "    <tr>\n",
       "      <th>ChestPainType_NAP</th>\n",
       "      <td>0.000000</td>\n",
       "      <td>1.000000</td>\n",
       "      <td>0.000000</td>\n",
       "      <td>1.000000</td>\n",
       "      <td>1.000000</td>\n",
       "    </tr>\n",
       "    <tr>\n",
       "      <th>ChestPainType_TA</th>\n",
       "      <td>0.000000</td>\n",
       "      <td>0.000000</td>\n",
       "      <td>0.000000</td>\n",
       "      <td>0.000000</td>\n",
       "      <td>0.000000</td>\n",
       "    </tr>\n",
       "    <tr>\n",
       "      <th>FastingBS_0</th>\n",
       "      <td>1.000000</td>\n",
       "      <td>1.000000</td>\n",
       "      <td>1.000000</td>\n",
       "      <td>1.000000</td>\n",
       "      <td>1.000000</td>\n",
       "    </tr>\n",
       "    <tr>\n",
       "      <th>FastingBS_1</th>\n",
       "      <td>0.000000</td>\n",
       "      <td>0.000000</td>\n",
       "      <td>0.000000</td>\n",
       "      <td>0.000000</td>\n",
       "      <td>0.000000</td>\n",
       "    </tr>\n",
       "    <tr>\n",
       "      <th>RestingECG_LVH</th>\n",
       "      <td>0.000000</td>\n",
       "      <td>1.000000</td>\n",
       "      <td>1.000000</td>\n",
       "      <td>0.000000</td>\n",
       "      <td>0.000000</td>\n",
       "    </tr>\n",
       "    <tr>\n",
       "      <th>RestingECG_Normal</th>\n",
       "      <td>1.000000</td>\n",
       "      <td>0.000000</td>\n",
       "      <td>0.000000</td>\n",
       "      <td>1.000000</td>\n",
       "      <td>1.000000</td>\n",
       "    </tr>\n",
       "    <tr>\n",
       "      <th>RestingECG_ST</th>\n",
       "      <td>0.000000</td>\n",
       "      <td>0.000000</td>\n",
       "      <td>0.000000</td>\n",
       "      <td>0.000000</td>\n",
       "      <td>0.000000</td>\n",
       "    </tr>\n",
       "    <tr>\n",
       "      <th>ExerciseAngina_N</th>\n",
       "      <td>0.000000</td>\n",
       "      <td>1.000000</td>\n",
       "      <td>0.000000</td>\n",
       "      <td>1.000000</td>\n",
       "      <td>1.000000</td>\n",
       "    </tr>\n",
       "    <tr>\n",
       "      <th>ExerciseAngina_Y</th>\n",
       "      <td>1.000000</td>\n",
       "      <td>0.000000</td>\n",
       "      <td>1.000000</td>\n",
       "      <td>0.000000</td>\n",
       "      <td>0.000000</td>\n",
       "    </tr>\n",
       "    <tr>\n",
       "      <th>ST_Slope_Down</th>\n",
       "      <td>0.000000</td>\n",
       "      <td>0.000000</td>\n",
       "      <td>0.000000</td>\n",
       "      <td>0.000000</td>\n",
       "      <td>0.000000</td>\n",
       "    </tr>\n",
       "    <tr>\n",
       "      <th>ST_Slope_Flat</th>\n",
       "      <td>1.000000</td>\n",
       "      <td>0.000000</td>\n",
       "      <td>1.000000</td>\n",
       "      <td>1.000000</td>\n",
       "      <td>1.000000</td>\n",
       "    </tr>\n",
       "    <tr>\n",
       "      <th>ST_Slope_Up</th>\n",
       "      <td>0.000000</td>\n",
       "      <td>1.000000</td>\n",
       "      <td>0.000000</td>\n",
       "      <td>0.000000</td>\n",
       "      <td>0.000000</td>\n",
       "    </tr>\n",
       "  </tbody>\n",
       "</table>\n",
       "</div>"
      ],
      "text/plain": [
       "                        356       763       817       735       892\n",
       "Age               -0.831954  0.440022  0.652018 -0.513960 -1.573940\n",
       "RestingBP         -0.989299 -0.048409 -0.435834 -0.712567  0.283669\n",
       "Cholesterol       -0.324676 -0.342946  0.278229 -1.000660 -0.416025\n",
       "MaxHR             -0.905584  1.418673  0.179069  0.101594  0.605183\n",
       "Oldpeak            0.601071  2.210549  1.831848  1.074447 -0.819056\n",
       "Sex_F              0.000000  0.000000  0.000000  0.000000  1.000000\n",
       "Sex_M              1.000000  1.000000  1.000000  1.000000  0.000000\n",
       "ChestPainType_ASY  1.000000  0.000000  1.000000  0.000000  0.000000\n",
       "ChestPainType_ATA  0.000000  0.000000  0.000000  0.000000  0.000000\n",
       "ChestPainType_NAP  0.000000  1.000000  0.000000  1.000000  1.000000\n",
       "ChestPainType_TA   0.000000  0.000000  0.000000  0.000000  0.000000\n",
       "FastingBS_0        1.000000  1.000000  1.000000  1.000000  1.000000\n",
       "FastingBS_1        0.000000  0.000000  0.000000  0.000000  0.000000\n",
       "RestingECG_LVH     0.000000  1.000000  1.000000  0.000000  0.000000\n",
       "RestingECG_Normal  1.000000  0.000000  0.000000  1.000000  1.000000\n",
       "RestingECG_ST      0.000000  0.000000  0.000000  0.000000  0.000000\n",
       "ExerciseAngina_N   0.000000  1.000000  0.000000  1.000000  1.000000\n",
       "ExerciseAngina_Y   1.000000  0.000000  1.000000  0.000000  0.000000\n",
       "ST_Slope_Down      0.000000  0.000000  0.000000  0.000000  0.000000\n",
       "ST_Slope_Flat      1.000000  0.000000  1.000000  1.000000  1.000000\n",
       "ST_Slope_Up        0.000000  1.000000  0.000000  0.000000  0.000000"
      ]
     },
     "execution_count": 56,
     "metadata": {},
     "output_type": "execute_result"
    }
   ],
   "source": [
    "X_test_final.head().T"
   ]
  },
  {
   "cell_type": "markdown",
   "id": "e3f51f54",
   "metadata": {},
   "source": [
    "### Modeling Taimu "
   ]
  },
  {
   "cell_type": "markdown",
   "id": "d7d748bd",
   "metadata": {},
   "source": [
    "#### Baseline Model "
   ]
  },
  {
   "cell_type": "code",
   "execution_count": 57,
   "id": "c7b3b095",
   "metadata": {},
   "outputs": [],
   "source": [
    "from sklearn.dummy import DummyClassifier\n",
    "from sklearn.metrics import confusion_matrix"
   ]
  },
  {
   "cell_type": "code",
   "execution_count": 58,
   "id": "7eeca0f3",
   "metadata": {},
   "outputs": [],
   "source": [
    "dummy_clf = DummyClassifier(strategy=\"most_frequent\")"
   ]
  },
  {
   "cell_type": "code",
   "execution_count": 59,
   "id": "69a33938",
   "metadata": {},
   "outputs": [
    {
     "data": {
      "text/html": [
       "<style>#sk-container-id-1 {color: black;background-color: white;}#sk-container-id-1 pre{padding: 0;}#sk-container-id-1 div.sk-toggleable {background-color: white;}#sk-container-id-1 label.sk-toggleable__label {cursor: pointer;display: block;width: 100%;margin-bottom: 0;padding: 0.3em;box-sizing: border-box;text-align: center;}#sk-container-id-1 label.sk-toggleable__label-arrow:before {content: \"▸\";float: left;margin-right: 0.25em;color: #696969;}#sk-container-id-1 label.sk-toggleable__label-arrow:hover:before {color: black;}#sk-container-id-1 div.sk-estimator:hover label.sk-toggleable__label-arrow:before {color: black;}#sk-container-id-1 div.sk-toggleable__content {max-height: 0;max-width: 0;overflow: hidden;text-align: left;background-color: #f0f8ff;}#sk-container-id-1 div.sk-toggleable__content pre {margin: 0.2em;color: black;border-radius: 0.25em;background-color: #f0f8ff;}#sk-container-id-1 input.sk-toggleable__control:checked~div.sk-toggleable__content {max-height: 200px;max-width: 100%;overflow: auto;}#sk-container-id-1 input.sk-toggleable__control:checked~label.sk-toggleable__label-arrow:before {content: \"▾\";}#sk-container-id-1 div.sk-estimator input.sk-toggleable__control:checked~label.sk-toggleable__label {background-color: #d4ebff;}#sk-container-id-1 div.sk-label input.sk-toggleable__control:checked~label.sk-toggleable__label {background-color: #d4ebff;}#sk-container-id-1 input.sk-hidden--visually {border: 0;clip: rect(1px 1px 1px 1px);clip: rect(1px, 1px, 1px, 1px);height: 1px;margin: -1px;overflow: hidden;padding: 0;position: absolute;width: 1px;}#sk-container-id-1 div.sk-estimator {font-family: monospace;background-color: #f0f8ff;border: 1px dotted black;border-radius: 0.25em;box-sizing: border-box;margin-bottom: 0.5em;}#sk-container-id-1 div.sk-estimator:hover {background-color: #d4ebff;}#sk-container-id-1 div.sk-parallel-item::after {content: \"\";width: 100%;border-bottom: 1px solid gray;flex-grow: 1;}#sk-container-id-1 div.sk-label:hover label.sk-toggleable__label {background-color: #d4ebff;}#sk-container-id-1 div.sk-serial::before {content: \"\";position: absolute;border-left: 1px solid gray;box-sizing: border-box;top: 0;bottom: 0;left: 50%;z-index: 0;}#sk-container-id-1 div.sk-serial {display: flex;flex-direction: column;align-items: center;background-color: white;padding-right: 0.2em;padding-left: 0.2em;position: relative;}#sk-container-id-1 div.sk-item {position: relative;z-index: 1;}#sk-container-id-1 div.sk-parallel {display: flex;align-items: stretch;justify-content: center;background-color: white;position: relative;}#sk-container-id-1 div.sk-item::before, #sk-container-id-1 div.sk-parallel-item::before {content: \"\";position: absolute;border-left: 1px solid gray;box-sizing: border-box;top: 0;bottom: 0;left: 50%;z-index: -1;}#sk-container-id-1 div.sk-parallel-item {display: flex;flex-direction: column;z-index: 1;position: relative;background-color: white;}#sk-container-id-1 div.sk-parallel-item:first-child::after {align-self: flex-end;width: 50%;}#sk-container-id-1 div.sk-parallel-item:last-child::after {align-self: flex-start;width: 50%;}#sk-container-id-1 div.sk-parallel-item:only-child::after {width: 0;}#sk-container-id-1 div.sk-dashed-wrapped {border: 1px dashed gray;margin: 0 0.4em 0.5em 0.4em;box-sizing: border-box;padding-bottom: 0.4em;background-color: white;}#sk-container-id-1 div.sk-label label {font-family: monospace;font-weight: bold;display: inline-block;line-height: 1.2em;}#sk-container-id-1 div.sk-label-container {text-align: center;}#sk-container-id-1 div.sk-container {/* jupyter's `normalize.less` sets `[hidden] { display: none; }` but bootstrap.min.css set `[hidden] { display: none !important; }` so we also need the `!important` here to be able to override the default hidden behavior on the sphinx rendered scikit-learn.org. See: https://github.com/scikit-learn/scikit-learn/issues/21755 */display: inline-block !important;position: relative;}#sk-container-id-1 div.sk-text-repr-fallback {display: none;}</style><div id=\"sk-container-id-1\" class=\"sk-top-container\"><div class=\"sk-text-repr-fallback\"><pre>DummyClassifier(strategy=&#x27;most_frequent&#x27;)</pre><b>In a Jupyter environment, please rerun this cell to show the HTML representation or trust the notebook. <br />On GitHub, the HTML representation is unable to render, please try loading this page with nbviewer.org.</b></div><div class=\"sk-container\" hidden><div class=\"sk-item\"><div class=\"sk-estimator sk-toggleable\"><input class=\"sk-toggleable__control sk-hidden--visually\" id=\"sk-estimator-id-1\" type=\"checkbox\" checked><label for=\"sk-estimator-id-1\" class=\"sk-toggleable__label sk-toggleable__label-arrow\">DummyClassifier</label><div class=\"sk-toggleable__content\"><pre>DummyClassifier(strategy=&#x27;most_frequent&#x27;)</pre></div></div></div></div></div>"
      ],
      "text/plain": [
       "DummyClassifier(strategy='most_frequent')"
      ]
     },
     "execution_count": 59,
     "metadata": {},
     "output_type": "execute_result"
    }
   ],
   "source": [
    "dummy_clf.fit(X_train_final, y_train)"
   ]
  },
  {
   "cell_type": "code",
   "execution_count": 60,
   "id": "e60c7fb9",
   "metadata": {},
   "outputs": [],
   "source": [
    "y_pred_dummy = dummy_clf.predict(X_test_final)"
   ]
  },
  {
   "cell_type": "code",
   "execution_count": 61,
   "id": "91af984d",
   "metadata": {},
   "outputs": [
    {
     "data": {
      "text/plain": [
       "array([1, 1, 1, 1, 1, 1, 1, 1, 1, 1, 1, 1, 1, 1, 1, 1, 1, 1, 1, 1, 1, 1,\n",
       "       1, 1, 1, 1, 1, 1, 1, 1, 1, 1, 1, 1, 1, 1, 1, 1, 1, 1, 1, 1, 1, 1,\n",
       "       1, 1, 1, 1, 1, 1, 1, 1, 1, 1, 1, 1, 1, 1, 1, 1, 1, 1, 1, 1, 1, 1,\n",
       "       1, 1, 1, 1, 1, 1, 1, 1, 1, 1, 1, 1, 1, 1, 1, 1, 1, 1, 1, 1, 1, 1,\n",
       "       1, 1, 1, 1, 1, 1, 1, 1, 1, 1, 1, 1, 1, 1, 1, 1, 1, 1, 1, 1, 1, 1,\n",
       "       1, 1, 1, 1, 1, 1, 1, 1, 1, 1, 1, 1, 1, 1, 1, 1, 1, 1, 1, 1, 1, 1,\n",
       "       1, 1, 1, 1, 1, 1, 1, 1, 1, 1, 1, 1, 1, 1, 1, 1, 1, 1, 1, 1, 1, 1,\n",
       "       1, 1, 1, 1, 1, 1, 1, 1, 1, 1, 1, 1, 1, 1, 1, 1, 1, 1, 1, 1, 1, 1,\n",
       "       1, 1, 1, 1, 1, 1, 1, 1])"
      ]
     },
     "execution_count": 61,
     "metadata": {},
     "output_type": "execute_result"
    }
   ],
   "source": [
    "y_pred_dummy"
   ]
  },
  {
   "cell_type": "code",
   "execution_count": 62,
   "id": "e96be784",
   "metadata": {},
   "outputs": [
    {
     "data": {
      "text/plain": [
       "array([[  0,  82],\n",
       "       [  0, 102]])"
      ]
     },
     "execution_count": 62,
     "metadata": {},
     "output_type": "execute_result"
    }
   ],
   "source": [
    "confusion_matrix(y_test, y_pred_dummy)"
   ]
  },
  {
   "cell_type": "code",
   "execution_count": 63,
   "id": "27e7f9a3",
   "metadata": {},
   "outputs": [
    {
     "data": {
      "text/plain": [
       "0.5543478260869565"
      ]
     },
     "execution_count": 63,
     "metadata": {},
     "output_type": "execute_result"
    }
   ],
   "source": [
    "acc_test_dummy = dummy_clf.score(X_test_final, y_test)\n",
    "acc_test_dummy"
   ]
  },
  {
   "cell_type": "markdown",
   "id": "62816fa7",
   "metadata": {},
   "source": [
    "### Modeling with Logistic Regression"
   ]
  },
  {
   "cell_type": "code",
   "execution_count": 64,
   "id": "8326ee64",
   "metadata": {},
   "outputs": [],
   "source": [
    "from sklearn.linear_model import LogisticRegression\n",
    "from sklearn.metrics import classification_report, accuracy_score"
   ]
  },
  {
   "cell_type": "code",
   "execution_count": 65,
   "id": "02c3b24a",
   "metadata": {},
   "outputs": [],
   "source": [
    "logreg = LogisticRegression()"
   ]
  },
  {
   "cell_type": "code",
   "execution_count": 66,
   "id": "fe0d5ece",
   "metadata": {},
   "outputs": [
    {
     "data": {
      "text/html": [
       "<style>#sk-container-id-2 {color: black;background-color: white;}#sk-container-id-2 pre{padding: 0;}#sk-container-id-2 div.sk-toggleable {background-color: white;}#sk-container-id-2 label.sk-toggleable__label {cursor: pointer;display: block;width: 100%;margin-bottom: 0;padding: 0.3em;box-sizing: border-box;text-align: center;}#sk-container-id-2 label.sk-toggleable__label-arrow:before {content: \"▸\";float: left;margin-right: 0.25em;color: #696969;}#sk-container-id-2 label.sk-toggleable__label-arrow:hover:before {color: black;}#sk-container-id-2 div.sk-estimator:hover label.sk-toggleable__label-arrow:before {color: black;}#sk-container-id-2 div.sk-toggleable__content {max-height: 0;max-width: 0;overflow: hidden;text-align: left;background-color: #f0f8ff;}#sk-container-id-2 div.sk-toggleable__content pre {margin: 0.2em;color: black;border-radius: 0.25em;background-color: #f0f8ff;}#sk-container-id-2 input.sk-toggleable__control:checked~div.sk-toggleable__content {max-height: 200px;max-width: 100%;overflow: auto;}#sk-container-id-2 input.sk-toggleable__control:checked~label.sk-toggleable__label-arrow:before {content: \"▾\";}#sk-container-id-2 div.sk-estimator input.sk-toggleable__control:checked~label.sk-toggleable__label {background-color: #d4ebff;}#sk-container-id-2 div.sk-label input.sk-toggleable__control:checked~label.sk-toggleable__label {background-color: #d4ebff;}#sk-container-id-2 input.sk-hidden--visually {border: 0;clip: rect(1px 1px 1px 1px);clip: rect(1px, 1px, 1px, 1px);height: 1px;margin: -1px;overflow: hidden;padding: 0;position: absolute;width: 1px;}#sk-container-id-2 div.sk-estimator {font-family: monospace;background-color: #f0f8ff;border: 1px dotted black;border-radius: 0.25em;box-sizing: border-box;margin-bottom: 0.5em;}#sk-container-id-2 div.sk-estimator:hover {background-color: #d4ebff;}#sk-container-id-2 div.sk-parallel-item::after {content: \"\";width: 100%;border-bottom: 1px solid gray;flex-grow: 1;}#sk-container-id-2 div.sk-label:hover label.sk-toggleable__label {background-color: #d4ebff;}#sk-container-id-2 div.sk-serial::before {content: \"\";position: absolute;border-left: 1px solid gray;box-sizing: border-box;top: 0;bottom: 0;left: 50%;z-index: 0;}#sk-container-id-2 div.sk-serial {display: flex;flex-direction: column;align-items: center;background-color: white;padding-right: 0.2em;padding-left: 0.2em;position: relative;}#sk-container-id-2 div.sk-item {position: relative;z-index: 1;}#sk-container-id-2 div.sk-parallel {display: flex;align-items: stretch;justify-content: center;background-color: white;position: relative;}#sk-container-id-2 div.sk-item::before, #sk-container-id-2 div.sk-parallel-item::before {content: \"\";position: absolute;border-left: 1px solid gray;box-sizing: border-box;top: 0;bottom: 0;left: 50%;z-index: -1;}#sk-container-id-2 div.sk-parallel-item {display: flex;flex-direction: column;z-index: 1;position: relative;background-color: white;}#sk-container-id-2 div.sk-parallel-item:first-child::after {align-self: flex-end;width: 50%;}#sk-container-id-2 div.sk-parallel-item:last-child::after {align-self: flex-start;width: 50%;}#sk-container-id-2 div.sk-parallel-item:only-child::after {width: 0;}#sk-container-id-2 div.sk-dashed-wrapped {border: 1px dashed gray;margin: 0 0.4em 0.5em 0.4em;box-sizing: border-box;padding-bottom: 0.4em;background-color: white;}#sk-container-id-2 div.sk-label label {font-family: monospace;font-weight: bold;display: inline-block;line-height: 1.2em;}#sk-container-id-2 div.sk-label-container {text-align: center;}#sk-container-id-2 div.sk-container {/* jupyter's `normalize.less` sets `[hidden] { display: none; }` but bootstrap.min.css set `[hidden] { display: none !important; }` so we also need the `!important` here to be able to override the default hidden behavior on the sphinx rendered scikit-learn.org. See: https://github.com/scikit-learn/scikit-learn/issues/21755 */display: inline-block !important;position: relative;}#sk-container-id-2 div.sk-text-repr-fallback {display: none;}</style><div id=\"sk-container-id-2\" class=\"sk-top-container\"><div class=\"sk-text-repr-fallback\"><pre>LogisticRegression()</pre><b>In a Jupyter environment, please rerun this cell to show the HTML representation or trust the notebook. <br />On GitHub, the HTML representation is unable to render, please try loading this page with nbviewer.org.</b></div><div class=\"sk-container\" hidden><div class=\"sk-item\"><div class=\"sk-estimator sk-toggleable\"><input class=\"sk-toggleable__control sk-hidden--visually\" id=\"sk-estimator-id-2\" type=\"checkbox\" checked><label for=\"sk-estimator-id-2\" class=\"sk-toggleable__label sk-toggleable__label-arrow\">LogisticRegression</label><div class=\"sk-toggleable__content\"><pre>LogisticRegression()</pre></div></div></div></div></div>"
      ],
      "text/plain": [
       "LogisticRegression()"
      ]
     },
     "execution_count": 66,
     "metadata": {},
     "output_type": "execute_result"
    }
   ],
   "source": [
    "logreg.fit(X_train_final, y_train)"
   ]
  },
  {
   "cell_type": "code",
   "execution_count": 67,
   "id": "ebabe4fc",
   "metadata": {},
   "outputs": [
    {
     "data": {
      "text/plain": [
       "array([[0.08352841, 0.91647159],\n",
       "       [0.83061502, 0.16938498],\n",
       "       [0.05764936, 0.94235064],\n",
       "       ...,\n",
       "       [0.11126108, 0.88873892],\n",
       "       [0.40897236, 0.59102764],\n",
       "       [0.72103117, 0.27896883]])"
      ]
     },
     "execution_count": 67,
     "metadata": {},
     "output_type": "execute_result"
    }
   ],
   "source": [
    "y_pred_train_proba = logreg.predict_proba(X_train_final)\n",
    "\n",
    "y_pred_train_proba"
   ]
  },
  {
   "cell_type": "code",
   "execution_count": 68,
   "id": "6cbb8ae8",
   "metadata": {},
   "outputs": [],
   "source": [
    "y_pred_train = logreg.predict(X_train_final)"
   ]
  },
  {
   "cell_type": "code",
   "execution_count": 69,
   "id": "41c50da8",
   "metadata": {},
   "outputs": [
    {
     "data": {
      "text/plain": [
       "0.8583106267029973"
      ]
     },
     "execution_count": 69,
     "metadata": {},
     "output_type": "execute_result"
    }
   ],
   "source": [
    "acc_train = accuracy_score(y_train, y_pred_train)\n",
    "acc_train"
   ]
  },
  {
   "cell_type": "code",
   "execution_count": 70,
   "id": "a427ef7c",
   "metadata": {},
   "outputs": [
    {
     "data": {
      "text/plain": [
       "array([[0.0486624 , 0.9513376 ],\n",
       "       [0.87529659, 0.12470341],\n",
       "       [0.03660435, 0.96339565],\n",
       "       [0.44148332, 0.55851668],\n",
       "       [0.85737468, 0.14262532],\n",
       "       [0.58801549, 0.41198451],\n",
       "       [0.97901987, 0.02098013],\n",
       "       [0.51871846, 0.48128154],\n",
       "       [0.97680233, 0.02319767],\n",
       "       [0.0164636 , 0.9835364 ],\n",
       "       [0.45626875, 0.54373125],\n",
       "       [0.95586647, 0.04413353],\n",
       "       [0.95208833, 0.04791167],\n",
       "       [0.91521464, 0.08478536],\n",
       "       [0.98300187, 0.01699813],\n",
       "       [0.04600453, 0.95399547],\n",
       "       [0.94573506, 0.05426494],\n",
       "       [0.24405274, 0.75594726],\n",
       "       [0.94159737, 0.05840263],\n",
       "       [0.47323975, 0.52676025],\n",
       "       [0.86393962, 0.13606038],\n",
       "       [0.18719274, 0.81280726],\n",
       "       [0.93178585, 0.06821415],\n",
       "       [0.94568488, 0.05431512],\n",
       "       [0.30734678, 0.69265322],\n",
       "       [0.01698033, 0.98301967],\n",
       "       [0.97988333, 0.02011667],\n",
       "       [0.04512963, 0.95487037],\n",
       "       [0.00962325, 0.99037675],\n",
       "       [0.9861459 , 0.0138541 ],\n",
       "       [0.83830084, 0.16169916],\n",
       "       [0.35693888, 0.64306112],\n",
       "       [0.98126525, 0.01873475],\n",
       "       [0.95411631, 0.04588369],\n",
       "       [0.16275412, 0.83724588],\n",
       "       [0.04390868, 0.95609132],\n",
       "       [0.02556153, 0.97443847],\n",
       "       [0.03467258, 0.96532742],\n",
       "       [0.93975942, 0.06024058],\n",
       "       [0.13082346, 0.86917654],\n",
       "       [0.04740067, 0.95259933],\n",
       "       [0.82634065, 0.17365935],\n",
       "       [0.05863195, 0.94136805],\n",
       "       [0.90611492, 0.09388508],\n",
       "       [0.29919512, 0.70080488],\n",
       "       [0.03358982, 0.96641018],\n",
       "       [0.03085829, 0.96914171],\n",
       "       [0.5454869 , 0.4545131 ],\n",
       "       [0.07763597, 0.92236403],\n",
       "       [0.50620888, 0.49379112],\n",
       "       [0.12178262, 0.87821738],\n",
       "       [0.89917972, 0.10082028],\n",
       "       [0.97891184, 0.02108816],\n",
       "       [0.70962085, 0.29037915],\n",
       "       [0.37874125, 0.62125875],\n",
       "       [0.48295783, 0.51704217],\n",
       "       [0.09372326, 0.90627674],\n",
       "       [0.98317904, 0.01682096],\n",
       "       [0.7918077 , 0.2081923 ],\n",
       "       [0.97347678, 0.02652322],\n",
       "       [0.90913482, 0.09086518],\n",
       "       [0.08440368, 0.91559632],\n",
       "       [0.89937912, 0.10062088],\n",
       "       [0.40114115, 0.59885885],\n",
       "       [0.94670207, 0.05329793],\n",
       "       [0.39089476, 0.60910524],\n",
       "       [0.12783718, 0.87216282],\n",
       "       [0.40915333, 0.59084667],\n",
       "       [0.88395866, 0.11604134],\n",
       "       [0.87080084, 0.12919916],\n",
       "       [0.93106944, 0.06893056],\n",
       "       [0.03769041, 0.96230959],\n",
       "       [0.49399774, 0.50600226],\n",
       "       [0.04458236, 0.95541764],\n",
       "       [0.98200712, 0.01799288],\n",
       "       [0.19505778, 0.80494222],\n",
       "       [0.02904448, 0.97095552],\n",
       "       [0.08675459, 0.91324541],\n",
       "       [0.1032276 , 0.8967724 ],\n",
       "       [0.09647543, 0.90352457],\n",
       "       [0.32479491, 0.67520509],\n",
       "       [0.01728854, 0.98271146],\n",
       "       [0.09074687, 0.90925313],\n",
       "       [0.65744903, 0.34255097],\n",
       "       [0.01932883, 0.98067117],\n",
       "       [0.97927596, 0.02072404],\n",
       "       [0.25991247, 0.74008753],\n",
       "       [0.04314942, 0.95685058],\n",
       "       [0.91195066, 0.08804934],\n",
       "       [0.15047778, 0.84952222],\n",
       "       [0.59815104, 0.40184896],\n",
       "       [0.28860579, 0.71139421],\n",
       "       [0.92899069, 0.07100931],\n",
       "       [0.82145006, 0.17854994],\n",
       "       [0.21298726, 0.78701274],\n",
       "       [0.05431708, 0.94568292],\n",
       "       [0.16407134, 0.83592866],\n",
       "       [0.01301458, 0.98698542],\n",
       "       [0.74272119, 0.25727881],\n",
       "       [0.24667352, 0.75332648],\n",
       "       [0.05364661, 0.94635339],\n",
       "       [0.53999416, 0.46000584],\n",
       "       [0.32353217, 0.67646783],\n",
       "       [0.98962488, 0.01037512],\n",
       "       [0.03067012, 0.96932988],\n",
       "       [0.37025756, 0.62974244],\n",
       "       [0.21802776, 0.78197224],\n",
       "       [0.90470031, 0.09529969],\n",
       "       [0.91782714, 0.08217286],\n",
       "       [0.01521228, 0.98478772],\n",
       "       [0.25220536, 0.74779464],\n",
       "       [0.8904181 , 0.1095819 ],\n",
       "       [0.89982777, 0.10017223],\n",
       "       [0.05951639, 0.94048361],\n",
       "       [0.0373206 , 0.9626794 ],\n",
       "       [0.90919506, 0.09080494],\n",
       "       [0.47746179, 0.52253821],\n",
       "       [0.91358906, 0.08641094],\n",
       "       [0.06098101, 0.93901899],\n",
       "       [0.03534233, 0.96465767],\n",
       "       [0.93578981, 0.06421019],\n",
       "       [0.21171903, 0.78828097],\n",
       "       [0.66997858, 0.33002142],\n",
       "       [0.90389394, 0.09610606],\n",
       "       [0.97548783, 0.02451217],\n",
       "       [0.04625487, 0.95374513],\n",
       "       [0.89550848, 0.10449152],\n",
       "       [0.53366264, 0.46633736],\n",
       "       [0.06642871, 0.93357129],\n",
       "       [0.89547864, 0.10452136],\n",
       "       [0.75639391, 0.24360609],\n",
       "       [0.98660778, 0.01339222],\n",
       "       [0.25044923, 0.74955077],\n",
       "       [0.95286333, 0.04713667],\n",
       "       [0.27879996, 0.72120004],\n",
       "       [0.05838737, 0.94161263],\n",
       "       [0.08440029, 0.91559971],\n",
       "       [0.34467485, 0.65532515],\n",
       "       [0.95222886, 0.04777114],\n",
       "       [0.5506522 , 0.4493478 ],\n",
       "       [0.11930742, 0.88069258],\n",
       "       [0.02581243, 0.97418757],\n",
       "       [0.97958596, 0.02041404],\n",
       "       [0.37873616, 0.62126384],\n",
       "       [0.01225591, 0.98774409],\n",
       "       [0.22950622, 0.77049378],\n",
       "       [0.41075422, 0.58924578],\n",
       "       [0.33060809, 0.66939191],\n",
       "       [0.23460998, 0.76539002],\n",
       "       [0.38243924, 0.61756076],\n",
       "       [0.03878867, 0.96121133],\n",
       "       [0.73470747, 0.26529253],\n",
       "       [0.15978976, 0.84021024],\n",
       "       [0.95523152, 0.04476848],\n",
       "       [0.08356011, 0.91643989],\n",
       "       [0.01385192, 0.98614808],\n",
       "       [0.70501284, 0.29498716],\n",
       "       [0.9507843 , 0.0492157 ],\n",
       "       [0.06173087, 0.93826913],\n",
       "       [0.04464334, 0.95535666],\n",
       "       [0.36938724, 0.63061276],\n",
       "       [0.31847371, 0.68152629],\n",
       "       [0.94106019, 0.05893981],\n",
       "       [0.83170541, 0.16829459],\n",
       "       [0.13241502, 0.86758498],\n",
       "       [0.94869915, 0.05130085],\n",
       "       [0.09774149, 0.90225851],\n",
       "       [0.04389754, 0.95610246],\n",
       "       [0.8579332 , 0.1420668 ],\n",
       "       [0.04845681, 0.95154319],\n",
       "       [0.10582803, 0.89417197],\n",
       "       [0.86346913, 0.13653087],\n",
       "       [0.09848547, 0.90151453],\n",
       "       [0.28005647, 0.71994353],\n",
       "       [0.04159377, 0.95840623],\n",
       "       [0.48336669, 0.51663331],\n",
       "       [0.94541724, 0.05458276],\n",
       "       [0.71839108, 0.28160892],\n",
       "       [0.93892869, 0.06107131],\n",
       "       [0.76200993, 0.23799007],\n",
       "       [0.01669587, 0.98330413],\n",
       "       [0.31579633, 0.68420367],\n",
       "       [0.05236565, 0.94763435],\n",
       "       [0.25977503, 0.74022497]])"
      ]
     },
     "execution_count": 70,
     "metadata": {},
     "output_type": "execute_result"
    }
   ],
   "source": [
    "y_pred_test_proba = logreg.predict_proba(X_test_final)\n",
    "\n",
    "y_pred_test_proba"
   ]
  },
  {
   "cell_type": "code",
   "execution_count": 71,
   "id": "57a2bb43",
   "metadata": {},
   "outputs": [],
   "source": [
    "y_pred_test = logreg.predict(X_test_final)"
   ]
  },
  {
   "cell_type": "code",
   "execution_count": 72,
   "id": "8d875112",
   "metadata": {},
   "outputs": [
    {
     "data": {
      "text/plain": [
       "0.8858695652173914"
      ]
     },
     "execution_count": 72,
     "metadata": {},
     "output_type": "execute_result"
    }
   ],
   "source": [
    "acc_test = accuracy_score(y_test, y_pred_test)\n",
    "acc_test"
   ]
  },
  {
   "cell_type": "code",
   "execution_count": 73,
   "id": "742b3979",
   "metadata": {},
   "outputs": [
    {
     "name": "stdout",
     "output_type": "stream",
     "text": [
      "Logistic Regression training accuracy 0.8583106267029973\n",
      "Logistic Regression test accuracy 0.8858695652173914\n"
     ]
    }
   ],
   "source": [
    "print(f\"Logistic Regression training accuracy {acc_train}\")\n",
    "print(f\"Logistic Regression test accuracy {acc_test}\")"
   ]
  },
  {
   "cell_type": "code",
   "execution_count": 74,
   "id": "c198996c",
   "metadata": {},
   "outputs": [
    {
     "name": "stdout",
     "output_type": "stream",
     "text": [
      "              precision    recall  f1-score   support\n",
      "\n",
      "           0       0.89      0.85      0.87        82\n",
      "           1       0.89      0.91      0.90       102\n",
      "\n",
      "    accuracy                           0.89       184\n",
      "   macro avg       0.89      0.88      0.88       184\n",
      "weighted avg       0.89      0.89      0.89       184\n",
      "\n"
     ]
    }
   ],
   "source": [
    "print(classification_report(y_test, y_pred_test))"
   ]
  },
  {
   "cell_type": "markdown",
   "id": "ffdac7a6",
   "metadata": {},
   "source": [
    "### Cross Validation and Hyperparameter Tuning "
   ]
  },
  {
   "cell_type": "code",
   "execution_count": 75,
   "id": "5130b7b8",
   "metadata": {},
   "outputs": [],
   "source": [
    "from sklearn.model_selection import cross_val_score, KFold\n",
    "from sklearn.model_selection import GridSearchCV, RandomizedSearchCV"
   ]
  },
  {
   "cell_type": "code",
   "execution_count": 76,
   "id": "855335d7",
   "metadata": {},
   "outputs": [
    {
     "data": {
      "text/plain": [
       "KFold(n_splits=5, random_state=None, shuffle=False)"
      ]
     },
     "execution_count": 76,
     "metadata": {},
     "output_type": "execute_result"
    }
   ],
   "source": [
    "k_folds = KFold(n_splits = 5)\n",
    "k_folds"
   ]
  },
  {
   "cell_type": "code",
   "execution_count": 77,
   "id": "d95046a7",
   "metadata": {},
   "outputs": [],
   "source": [
    "PARAMS = {\n",
    "    \"penalty\": ['l1', 'l2'],\n",
    "    \"C\": np.linspace(0.5, 10, 30),\n",
    "    \"solver\": [\"linear\", \"saga\"],\n",
    "    \"max_iter\": [100, 500, 2500, 5000, 10000]\n",
    "}"
   ]
  },
  {
   "cell_type": "code",
   "execution_count": 78,
   "id": "3c22c70f",
   "metadata": {
    "scrolled": true
   },
   "outputs": [
    {
     "data": {
      "text/plain": [
       "{'penalty': ['l1', 'l2'],\n",
       " 'C': array([ 0.5       ,  0.82758621,  1.15517241,  1.48275862,  1.81034483,\n",
       "         2.13793103,  2.46551724,  2.79310345,  3.12068966,  3.44827586,\n",
       "         3.77586207,  4.10344828,  4.43103448,  4.75862069,  5.0862069 ,\n",
       "         5.4137931 ,  5.74137931,  6.06896552,  6.39655172,  6.72413793,\n",
       "         7.05172414,  7.37931034,  7.70689655,  8.03448276,  8.36206897,\n",
       "         8.68965517,  9.01724138,  9.34482759,  9.67241379, 10.        ]),\n",
       " 'solver': ['linear', 'saga'],\n",
       " 'max_iter': [100, 500, 2500, 5000, 10000]}"
      ]
     },
     "execution_count": 78,
     "metadata": {},
     "output_type": "execute_result"
    }
   ],
   "source": [
    "PARAMS"
   ]
  },
  {
   "cell_type": "markdown",
   "id": "a0d3c5c3",
   "metadata": {},
   "source": [
    "#### Random Search "
   ]
  },
  {
   "cell_type": "code",
   "execution_count": 80,
   "id": "2b3be351",
   "metadata": {},
   "outputs": [],
   "source": [
    "best_logreg_random = RandomizedSearchCV(estimator = logreg,\n",
    "                                        param_distributions = PARAMS,\n",
    "                                        cv = k_folds,\n",
    "                                        verbose = 3)"
   ]
  },
  {
   "cell_type": "code",
   "execution_count": 81,
   "id": "a7dcba87",
   "metadata": {},
   "outputs": [
    {
     "name": "stdout",
     "output_type": "stream",
     "text": [
      "Fitting 5 folds for each of 10 candidates, totalling 50 fits\n",
      "[CV 1/5] END C=9.672413793103448, max_iter=100, penalty=l2, solver=linear;, score=nan total time=   0.0s\n",
      "[CV 2/5] END C=9.672413793103448, max_iter=100, penalty=l2, solver=linear;, score=nan total time=   0.0s\n",
      "[CV 3/5] END C=9.672413793103448, max_iter=100, penalty=l2, solver=linear;, score=nan total time=   0.0s\n",
      "[CV 4/5] END C=9.672413793103448, max_iter=100, penalty=l2, solver=linear;, score=nan total time=   0.0s\n",
      "[CV 5/5] END C=9.672413793103448, max_iter=100, penalty=l2, solver=linear;, score=nan total time=   0.0s\n",
      "[CV 1/5] END C=2.793103448275862, max_iter=10000, penalty=l1, solver=saga;, score=0.878 total time=   0.0s\n",
      "[CV 2/5] END C=2.793103448275862, max_iter=10000, penalty=l1, solver=saga;, score=0.864 total time=   0.0s\n",
      "[CV 3/5] END C=2.793103448275862, max_iter=10000, penalty=l1, solver=saga;, score=0.857 total time=   0.0s\n",
      "[CV 4/5] END C=2.793103448275862, max_iter=10000, penalty=l1, solver=saga;, score=0.837 total time=   0.0s\n",
      "[CV 5/5] END C=2.793103448275862, max_iter=10000, penalty=l1, solver=saga;, score=0.808 total time=   0.0s\n",
      "[CV 1/5] END C=5.086206896551724, max_iter=5000, penalty=l2, solver=linear;, score=nan total time=   0.0s\n",
      "[CV 2/5] END C=5.086206896551724, max_iter=5000, penalty=l2, solver=linear;, score=nan total time=   0.0s\n",
      "[CV 3/5] END C=5.086206896551724, max_iter=5000, penalty=l2, solver=linear;, score=nan total time=   0.0s\n",
      "[CV 4/5] END C=5.086206896551724, max_iter=5000, penalty=l2, solver=linear;, score=nan total time=   0.0s\n",
      "[CV 5/5] END C=5.086206896551724, max_iter=5000, penalty=l2, solver=linear;, score=nan total time=   0.0s\n",
      "[CV 1/5] END C=5.741379310344827, max_iter=100, penalty=l2, solver=saga;, score=0.884 total time=   0.0s\n",
      "[CV 2/5] END C=5.741379310344827, max_iter=100, penalty=l2, solver=saga;, score=0.864 total time=   0.0s\n",
      "[CV 3/5] END C=5.741379310344827, max_iter=100, penalty=l2, solver=saga;, score=0.857 total time=   0.0s\n",
      "[CV 4/5] END C=5.741379310344827, max_iter=100, penalty=l2, solver=saga;, score=0.837 total time=   0.0s\n",
      "[CV 5/5] END C=5.741379310344827, max_iter=100, penalty=l2, solver=saga;, score=0.815 total time=   0.0s\n",
      "[CV 1/5] END C=1.8103448275862069, max_iter=5000, penalty=l2, solver=linear;, score=nan total time=   0.0s\n",
      "[CV 2/5] END C=1.8103448275862069, max_iter=5000, penalty=l2, solver=linear;, score=nan total time=   0.0s\n",
      "[CV 3/5] END C=1.8103448275862069, max_iter=5000, penalty=l2, solver=linear;, score=nan total time=   0.0s\n",
      "[CV 4/5] END C=1.8103448275862069, max_iter=5000, penalty=l2, solver=linear;, score=nan total time=   0.0s\n",
      "[CV 5/5] END C=1.8103448275862069, max_iter=5000, penalty=l2, solver=linear;, score=nan total time=   0.0s\n",
      "[CV 1/5] END C=5.413793103448276, max_iter=2500, penalty=l2, solver=linear;, score=nan total time=   0.0s\n",
      "[CV 2/5] END C=5.413793103448276, max_iter=2500, penalty=l2, solver=linear;, score=nan total time=   0.0s\n",
      "[CV 3/5] END C=5.413793103448276, max_iter=2500, penalty=l2, solver=linear;, score=nan total time=   0.0s\n",
      "[CV 4/5] END C=5.413793103448276, max_iter=2500, penalty=l2, solver=linear;, score=nan total time=   0.0s\n",
      "[CV 5/5] END C=5.413793103448276, max_iter=2500, penalty=l2, solver=linear;, score=nan total time=   0.0s\n",
      "[CV 1/5] END C=1.1551724137931034, max_iter=2500, penalty=l2, solver=linear;, score=nan total time=   0.0s\n",
      "[CV 2/5] END C=1.1551724137931034, max_iter=2500, penalty=l2, solver=linear;, score=nan total time=   0.0s\n",
      "[CV 3/5] END C=1.1551724137931034, max_iter=2500, penalty=l2, solver=linear;, score=nan total time=   0.0s\n",
      "[CV 4/5] END C=1.1551724137931034, max_iter=2500, penalty=l2, solver=linear;, score=nan total time=   0.0s\n",
      "[CV 5/5] END C=1.1551724137931034, max_iter=2500, penalty=l2, solver=linear;, score=nan total time=   0.0s\n",
      "[CV 1/5] END C=4.103448275862069, max_iter=500, penalty=l2, solver=linear;, score=nan total time=   0.0s\n",
      "[CV 2/5] END C=4.103448275862069, max_iter=500, penalty=l2, solver=linear;, score=nan total time=   0.0s\n",
      "[CV 3/5] END C=4.103448275862069, max_iter=500, penalty=l2, solver=linear;, score=nan total time=   0.0s\n",
      "[CV 4/5] END C=4.103448275862069, max_iter=500, penalty=l2, solver=linear;, score=nan total time=   0.0s\n",
      "[CV 5/5] END C=4.103448275862069, max_iter=500, penalty=l2, solver=linear;, score=nan total time=   0.0s\n",
      "[CV 1/5] END C=8.362068965517242, max_iter=10000, penalty=l1, solver=linear;, score=nan total time=   0.0s\n",
      "[CV 2/5] END C=8.362068965517242, max_iter=10000, penalty=l1, solver=linear;, score=nan total time=   0.0s\n",
      "[CV 3/5] END C=8.362068965517242, max_iter=10000, penalty=l1, solver=linear;, score=nan total time=   0.0s\n",
      "[CV 4/5] END C=8.362068965517242, max_iter=10000, penalty=l1, solver=linear;, score=nan total time=   0.0s\n",
      "[CV 5/5] END C=8.362068965517242, max_iter=10000, penalty=l1, solver=linear;, score=nan total time=   0.0s\n",
      "[CV 1/5] END C=3.4482758620689653, max_iter=2500, penalty=l2, solver=linear;, score=nan total time=   0.0s\n",
      "[CV 2/5] END C=3.4482758620689653, max_iter=2500, penalty=l2, solver=linear;, score=nan total time=   0.0s\n",
      "[CV 3/5] END C=3.4482758620689653, max_iter=2500, penalty=l2, solver=linear;, score=nan total time=   0.0s\n",
      "[CV 4/5] END C=3.4482758620689653, max_iter=2500, penalty=l2, solver=linear;, score=nan total time=   0.0s\n",
      "[CV 5/5] END C=3.4482758620689653, max_iter=2500, penalty=l2, solver=linear;, score=nan total time=   0.0s\n"
     ]
    },
    {
     "data": {
      "text/html": [
       "<style>#sk-container-id-3 {color: black;background-color: white;}#sk-container-id-3 pre{padding: 0;}#sk-container-id-3 div.sk-toggleable {background-color: white;}#sk-container-id-3 label.sk-toggleable__label {cursor: pointer;display: block;width: 100%;margin-bottom: 0;padding: 0.3em;box-sizing: border-box;text-align: center;}#sk-container-id-3 label.sk-toggleable__label-arrow:before {content: \"▸\";float: left;margin-right: 0.25em;color: #696969;}#sk-container-id-3 label.sk-toggleable__label-arrow:hover:before {color: black;}#sk-container-id-3 div.sk-estimator:hover label.sk-toggleable__label-arrow:before {color: black;}#sk-container-id-3 div.sk-toggleable__content {max-height: 0;max-width: 0;overflow: hidden;text-align: left;background-color: #f0f8ff;}#sk-container-id-3 div.sk-toggleable__content pre {margin: 0.2em;color: black;border-radius: 0.25em;background-color: #f0f8ff;}#sk-container-id-3 input.sk-toggleable__control:checked~div.sk-toggleable__content {max-height: 200px;max-width: 100%;overflow: auto;}#sk-container-id-3 input.sk-toggleable__control:checked~label.sk-toggleable__label-arrow:before {content: \"▾\";}#sk-container-id-3 div.sk-estimator input.sk-toggleable__control:checked~label.sk-toggleable__label {background-color: #d4ebff;}#sk-container-id-3 div.sk-label input.sk-toggleable__control:checked~label.sk-toggleable__label {background-color: #d4ebff;}#sk-container-id-3 input.sk-hidden--visually {border: 0;clip: rect(1px 1px 1px 1px);clip: rect(1px, 1px, 1px, 1px);height: 1px;margin: -1px;overflow: hidden;padding: 0;position: absolute;width: 1px;}#sk-container-id-3 div.sk-estimator {font-family: monospace;background-color: #f0f8ff;border: 1px dotted black;border-radius: 0.25em;box-sizing: border-box;margin-bottom: 0.5em;}#sk-container-id-3 div.sk-estimator:hover {background-color: #d4ebff;}#sk-container-id-3 div.sk-parallel-item::after {content: \"\";width: 100%;border-bottom: 1px solid gray;flex-grow: 1;}#sk-container-id-3 div.sk-label:hover label.sk-toggleable__label {background-color: #d4ebff;}#sk-container-id-3 div.sk-serial::before {content: \"\";position: absolute;border-left: 1px solid gray;box-sizing: border-box;top: 0;bottom: 0;left: 50%;z-index: 0;}#sk-container-id-3 div.sk-serial {display: flex;flex-direction: column;align-items: center;background-color: white;padding-right: 0.2em;padding-left: 0.2em;position: relative;}#sk-container-id-3 div.sk-item {position: relative;z-index: 1;}#sk-container-id-3 div.sk-parallel {display: flex;align-items: stretch;justify-content: center;background-color: white;position: relative;}#sk-container-id-3 div.sk-item::before, #sk-container-id-3 div.sk-parallel-item::before {content: \"\";position: absolute;border-left: 1px solid gray;box-sizing: border-box;top: 0;bottom: 0;left: 50%;z-index: -1;}#sk-container-id-3 div.sk-parallel-item {display: flex;flex-direction: column;z-index: 1;position: relative;background-color: white;}#sk-container-id-3 div.sk-parallel-item:first-child::after {align-self: flex-end;width: 50%;}#sk-container-id-3 div.sk-parallel-item:last-child::after {align-self: flex-start;width: 50%;}#sk-container-id-3 div.sk-parallel-item:only-child::after {width: 0;}#sk-container-id-3 div.sk-dashed-wrapped {border: 1px dashed gray;margin: 0 0.4em 0.5em 0.4em;box-sizing: border-box;padding-bottom: 0.4em;background-color: white;}#sk-container-id-3 div.sk-label label {font-family: monospace;font-weight: bold;display: inline-block;line-height: 1.2em;}#sk-container-id-3 div.sk-label-container {text-align: center;}#sk-container-id-3 div.sk-container {/* jupyter's `normalize.less` sets `[hidden] { display: none; }` but bootstrap.min.css set `[hidden] { display: none !important; }` so we also need the `!important` here to be able to override the default hidden behavior on the sphinx rendered scikit-learn.org. See: https://github.com/scikit-learn/scikit-learn/issues/21755 */display: inline-block !important;position: relative;}#sk-container-id-3 div.sk-text-repr-fallback {display: none;}</style><div id=\"sk-container-id-3\" class=\"sk-top-container\"><div class=\"sk-text-repr-fallback\"><pre>RandomizedSearchCV(cv=KFold(n_splits=5, random_state=None, shuffle=False),\n",
       "                   estimator=LogisticRegression(),\n",
       "                   param_distributions={&#x27;C&#x27;: array([ 0.5       ,  0.82758621,  1.15517241,  1.48275862,  1.81034483,\n",
       "        2.13793103,  2.46551724,  2.79310345,  3.12068966,  3.44827586,\n",
       "        3.77586207,  4.10344828,  4.43103448,  4.75862069,  5.0862069 ,\n",
       "        5.4137931 ,  5.74137931,  6.06896552,  6.39655172,  6.72413793,\n",
       "        7.05172414,  7.37931034,  7.70689655,  8.03448276,  8.36206897,\n",
       "        8.68965517,  9.01724138,  9.34482759,  9.67241379, 10.        ]),\n",
       "                                        &#x27;max_iter&#x27;: [100, 500, 2500, 5000,\n",
       "                                                     10000],\n",
       "                                        &#x27;penalty&#x27;: [&#x27;l1&#x27;, &#x27;l2&#x27;],\n",
       "                                        &#x27;solver&#x27;: [&#x27;linear&#x27;, &#x27;saga&#x27;]},\n",
       "                   verbose=3)</pre><b>In a Jupyter environment, please rerun this cell to show the HTML representation or trust the notebook. <br />On GitHub, the HTML representation is unable to render, please try loading this page with nbviewer.org.</b></div><div class=\"sk-container\" hidden><div class=\"sk-item sk-dashed-wrapped\"><div class=\"sk-label-container\"><div class=\"sk-label sk-toggleable\"><input class=\"sk-toggleable__control sk-hidden--visually\" id=\"sk-estimator-id-3\" type=\"checkbox\" ><label for=\"sk-estimator-id-3\" class=\"sk-toggleable__label sk-toggleable__label-arrow\">RandomizedSearchCV</label><div class=\"sk-toggleable__content\"><pre>RandomizedSearchCV(cv=KFold(n_splits=5, random_state=None, shuffle=False),\n",
       "                   estimator=LogisticRegression(),\n",
       "                   param_distributions={&#x27;C&#x27;: array([ 0.5       ,  0.82758621,  1.15517241,  1.48275862,  1.81034483,\n",
       "        2.13793103,  2.46551724,  2.79310345,  3.12068966,  3.44827586,\n",
       "        3.77586207,  4.10344828,  4.43103448,  4.75862069,  5.0862069 ,\n",
       "        5.4137931 ,  5.74137931,  6.06896552,  6.39655172,  6.72413793,\n",
       "        7.05172414,  7.37931034,  7.70689655,  8.03448276,  8.36206897,\n",
       "        8.68965517,  9.01724138,  9.34482759,  9.67241379, 10.        ]),\n",
       "                                        &#x27;max_iter&#x27;: [100, 500, 2500, 5000,\n",
       "                                                     10000],\n",
       "                                        &#x27;penalty&#x27;: [&#x27;l1&#x27;, &#x27;l2&#x27;],\n",
       "                                        &#x27;solver&#x27;: [&#x27;linear&#x27;, &#x27;saga&#x27;]},\n",
       "                   verbose=3)</pre></div></div></div><div class=\"sk-parallel\"><div class=\"sk-parallel-item\"><div class=\"sk-item\"><div class=\"sk-label-container\"><div class=\"sk-label sk-toggleable\"><input class=\"sk-toggleable__control sk-hidden--visually\" id=\"sk-estimator-id-4\" type=\"checkbox\" ><label for=\"sk-estimator-id-4\" class=\"sk-toggleable__label sk-toggleable__label-arrow\">estimator: LogisticRegression</label><div class=\"sk-toggleable__content\"><pre>LogisticRegression()</pre></div></div></div><div class=\"sk-serial\"><div class=\"sk-item\"><div class=\"sk-estimator sk-toggleable\"><input class=\"sk-toggleable__control sk-hidden--visually\" id=\"sk-estimator-id-5\" type=\"checkbox\" ><label for=\"sk-estimator-id-5\" class=\"sk-toggleable__label sk-toggleable__label-arrow\">LogisticRegression</label><div class=\"sk-toggleable__content\"><pre>LogisticRegression()</pre></div></div></div></div></div></div></div></div></div></div>"
      ],
      "text/plain": [
       "RandomizedSearchCV(cv=KFold(n_splits=5, random_state=None, shuffle=False),\n",
       "                   estimator=LogisticRegression(),\n",
       "                   param_distributions={'C': array([ 0.5       ,  0.82758621,  1.15517241,  1.48275862,  1.81034483,\n",
       "        2.13793103,  2.46551724,  2.79310345,  3.12068966,  3.44827586,\n",
       "        3.77586207,  4.10344828,  4.43103448,  4.75862069,  5.0862069 ,\n",
       "        5.4137931 ,  5.74137931,  6.06896552,  6.39655172,  6.72413793,\n",
       "        7.05172414,  7.37931034,  7.70689655,  8.03448276,  8.36206897,\n",
       "        8.68965517,  9.01724138,  9.34482759,  9.67241379, 10.        ]),\n",
       "                                        'max_iter': [100, 500, 2500, 5000,\n",
       "                                                     10000],\n",
       "                                        'penalty': ['l1', 'l2'],\n",
       "                                        'solver': ['linear', 'saga']},\n",
       "                   verbose=3)"
      ]
     },
     "execution_count": 81,
     "metadata": {},
     "output_type": "execute_result"
    }
   ],
   "source": [
    "best_logreg_random.fit(X_train_final, y_train)"
   ]
  },
  {
   "cell_type": "code",
   "execution_count": 82,
   "id": "4af1770d",
   "metadata": {},
   "outputs": [
    {
     "data": {
      "text/plain": [
       "{'solver': 'saga', 'penalty': 'l2', 'max_iter': 100, 'C': 5.741379310344827}"
      ]
     },
     "execution_count": 82,
     "metadata": {},
     "output_type": "execute_result"
    }
   ],
   "source": [
    "best_logreg_random.best_params_"
   ]
  },
  {
   "cell_type": "code",
   "execution_count": 83,
   "id": "2e68f397",
   "metadata": {
    "scrolled": true
   },
   "outputs": [
    {
     "data": {
      "text/plain": [
       "0.8514490727797968"
      ]
     },
     "execution_count": 83,
     "metadata": {},
     "output_type": "execute_result"
    }
   ],
   "source": [
    "best_logreg_random.best_score_"
   ]
  },
  {
   "cell_type": "code",
   "execution_count": 84,
   "id": "66b7b843",
   "metadata": {},
   "outputs": [],
   "source": [
    "y_pred_test_random = best_logreg_random.predict(X_test_final)"
   ]
  },
  {
   "cell_type": "code",
   "execution_count": 85,
   "id": "59a20ad8",
   "metadata": {},
   "outputs": [
    {
     "data": {
      "text/plain": [
       "0.8913043478260869"
      ]
     },
     "execution_count": 85,
     "metadata": {},
     "output_type": "execute_result"
    }
   ],
   "source": [
    "acc_test_random = accuracy_score(y_test, y_pred_test_random)\n",
    "acc_test_random"
   ]
  },
  {
   "cell_type": "code",
   "execution_count": 86,
   "id": "e3efbbeb",
   "metadata": {},
   "outputs": [
    {
     "name": "stdout",
     "output_type": "stream",
     "text": [
      "              precision    recall  f1-score   support\n",
      "\n",
      "           0       0.89      0.87      0.88        82\n",
      "           1       0.89      0.91      0.90       102\n",
      "\n",
      "    accuracy                           0.89       184\n",
      "   macro avg       0.89      0.89      0.89       184\n",
      "weighted avg       0.89      0.89      0.89       184\n",
      "\n"
     ]
    }
   ],
   "source": [
    "print(classification_report(y_test, y_pred_test_random))"
   ]
  },
  {
   "cell_type": "markdown",
   "id": "4a42939b",
   "metadata": {},
   "source": [
    "### Final Result\n",
    "\n",
    "- get baseline\n",
    "- get logreg vanilla\n",
    "- get logreg grid\n",
    "- get logreg random"
   ]
  },
  {
   "cell_type": "code",
   "execution_count": 87,
   "id": "2a1f6ea3",
   "metadata": {},
   "outputs": [],
   "source": [
    "result_data = {\n",
    "    \"baseline\": acc_test_dummy,\n",
    "    \"logreg_vanilla\": acc_test,\n",
    "#     \"logreg_grid\": acc_test_grid,\n",
    "    \"logreg_random\": acc_test_random\n",
    "}"
   ]
  },
  {
   "cell_type": "code",
   "execution_count": 88,
   "id": "43f92b3e",
   "metadata": {},
   "outputs": [
    {
     "data": {
      "text/plain": [
       "{'baseline': 0.5543478260869565,\n",
       " 'logreg_vanilla': 0.8858695652173914,\n",
       " 'logreg_random': 0.8913043478260869}"
      ]
     },
     "execution_count": 88,
     "metadata": {},
     "output_type": "execute_result"
    }
   ],
   "source": [
    "result_data"
   ]
  },
  {
   "cell_type": "markdown",
   "id": "0bcf763e",
   "metadata": {},
   "source": [
    "https://stackoverflow.com/questions/17839973/constructing-pandas-dataframe-from-values-in-variables-gives-valueerror-if-usi"
   ]
  },
  {
   "cell_type": "code",
   "execution_count": 89,
   "id": "c277751b",
   "metadata": {},
   "outputs": [
    {
     "data": {
      "text/html": [
       "<div>\n",
       "<style scoped>\n",
       "    .dataframe tbody tr th:only-of-type {\n",
       "        vertical-align: middle;\n",
       "    }\n",
       "\n",
       "    .dataframe tbody tr th {\n",
       "        vertical-align: top;\n",
       "    }\n",
       "\n",
       "    .dataframe thead th {\n",
       "        text-align: right;\n",
       "    }\n",
       "</style>\n",
       "<table border=\"1\" class=\"dataframe\">\n",
       "  <thead>\n",
       "    <tr style=\"text-align: right;\">\n",
       "      <th></th>\n",
       "      <th>Result</th>\n",
       "    </tr>\n",
       "  </thead>\n",
       "  <tbody>\n",
       "    <tr>\n",
       "      <th>baseline</th>\n",
       "      <td>0.554348</td>\n",
       "    </tr>\n",
       "    <tr>\n",
       "      <th>logreg_vanilla</th>\n",
       "      <td>0.885870</td>\n",
       "    </tr>\n",
       "    <tr>\n",
       "      <th>logreg_random</th>\n",
       "      <td>0.891304</td>\n",
       "    </tr>\n",
       "  </tbody>\n",
       "</table>\n",
       "</div>"
      ],
      "text/plain": [
       "                  Result\n",
       "baseline        0.554348\n",
       "logreg_vanilla  0.885870\n",
       "logreg_random   0.891304"
      ]
     },
     "execution_count": 89,
     "metadata": {},
     "output_type": "execute_result"
    }
   ],
   "source": [
    "data = pd.Series(result_data).to_frame(\"Result\")\n",
    "\n",
    "data"
   ]
  },
  {
   "cell_type": "markdown",
   "id": "62422b98",
   "metadata": {},
   "source": [
    "### Conclusion\n",
    "\n",
    "- Semua model bisa mengalahkan baseline, which is good\n",
    "- Dari semua eksperimen, ternyata menggunakan model yang menggunakan RandomSearch memiliki hasil yang paling bagus walaupun perbedaannya hanya sedikit saja dari model yang lain\n",
    "- Mungkin next nya pengen coba treat / preprocessing data nya lebih lagi\n",
    "- Coba Feature Engineering mungkin (?) tapi kudu ngerti konteks data nya dulu kawoakoakwo\n",
    "- Next kalo modeling langsung pake random search aja"
   ]
  }
 ],
 "metadata": {
  "kernelspec": {
   "display_name": "Python 3 (ipykernel)",
   "language": "python",
   "name": "python3"
  },
  "language_info": {
   "codemirror_mode": {
    "name": "ipython",
    "version": 3
   },
   "file_extension": ".py",
   "mimetype": "text/x-python",
   "name": "python",
   "nbconvert_exporter": "python",
   "pygments_lexer": "ipython3",
   "version": "3.10.8"
  }
 },
 "nbformat": 4,
 "nbformat_minor": 5
}
